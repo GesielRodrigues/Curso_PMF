{
  "nbformat": 4,
  "nbformat_minor": 0,
  "metadata": {
    "colab": {
      "provenance": [],
      "collapsed_sections": [
        "NLp0rkVUL8mD"
      ],
      "include_colab_link": true
    },
    "kernelspec": {
      "name": "python3",
      "display_name": "Python 3"
    },
    "language_info": {
      "name": "python"
    }
  },
  "cells": [
    {
      "cell_type": "markdown",
      "metadata": {
        "id": "view-in-github",
        "colab_type": "text"
      },
      "source": [
        "<a href=\"https://colab.research.google.com/github/GesielRodrigues/Curso_PMF/blob/main/PMF_M%C3%B3dulo_04_Estat%C3%ADstica_no_Mercado_Financeiro_Distribui%C3%A7%C3%A3o_Normal.ipynb\" target=\"_parent\"><img src=\"https://colab.research.google.com/assets/colab-badge.svg\" alt=\"Open In Colab\"/></a>"
      ]
    },
    {
      "cell_type": "markdown",
      "source": [
        "<center><img src = \"https://github.com/Trading-com-Dados/pmf/blob/main/logotipo-trading-com-dados.svg?raw=true\" width = \"200\">"
      ],
      "metadata": {
        "id": "wmF8S-Oapv7F"
      }
    },
    {
      "cell_type": "markdown",
      "source": [
        "<center><img src = \"https://github.com/Trading-com-Dados/pmf/blob/main/PMF%20002.png?raw=true\" width = \"700\">"
      ],
      "metadata": {
        "id": "_rng8Iebsy1h"
      }
    },
    {
      "cell_type": "markdown",
      "source": [
        "---\n",
        "# **Estatística no Mercado Financeiro**\n",
        "---"
      ],
      "metadata": {
        "id": "NcDb3qLlp2CT"
      }
    },
    {
      "cell_type": "markdown",
      "source": [
        "# **1. Introdução**\n",
        "\n",
        "*Por que utilizar estatística?*"
      ],
      "metadata": {
        "id": "HTWDXaHgNTrC"
      }
    },
    {
      "cell_type": "markdown",
      "source": [
        "<img src=\"https://img.ifunny.co/images/d2e5651b80064003b248c3175ac092d94dd8dafe6b6375e441e1543c1e90ad7e_1.webp\" width=\"500\" align=\"left\"/>"
      ],
      "metadata": {
        "id": "UNc6pID0Jdd4"
      }
    },
    {
      "cell_type": "markdown",
      "source": [
        "Apenas olhando o gráfico abaixo conseguiríamos dizer se existe alguma relação entre os dados?\n",
        "\n",
        "**Provavelmente não.**"
      ],
      "metadata": {
        "id": "Lf9gUX39ZOea"
      }
    },
    {
      "cell_type": "code",
      "source": [
        "import numpy as np\n",
        "from scipy import stats\n",
        "import plotly.express as px\n",
        "\n",
        "np.random.seed(15)\n",
        "a = np.random.randint(50, size = 30)\n",
        "b = np.random.randint(50, size = 30)\n",
        "ab = zip(a,b)\n",
        "fig = px.scatter(ab, x=a, y=b, template='simple_white', width=400, height=400)\n",
        "fig.update_layout(paper_bgcolor=\"#f7f8fa\", margin=dict(l=20, r=20, t=20, b=20))"
      ],
      "metadata": {
        "colab": {
          "base_uri": "https://localhost:8080/",
          "height": 417
        },
        "id": "7P1Mf4vFvmYD",
        "outputId": "b2977d31-9220-4e14-e2c4-7dee15d88a67"
      },
      "execution_count": 30,
      "outputs": [
        {
          "output_type": "display_data",
          "data": {
            "text/html": [
              "<html>\n",
              "<head><meta charset=\"utf-8\" /></head>\n",
              "<body>\n",
              "    <div>            <script src=\"https://cdnjs.cloudflare.com/ajax/libs/mathjax/2.7.5/MathJax.js?config=TeX-AMS-MML_SVG\"></script><script type=\"text/javascript\">if (window.MathJax && window.MathJax.Hub && window.MathJax.Hub.Config) {window.MathJax.Hub.Config({SVG: {font: \"STIX-Web\"}});}</script>                <script type=\"text/javascript\">window.PlotlyConfig = {MathJaxConfig: 'local'};</script>\n",
              "        <script charset=\"utf-8\" src=\"https://cdn.plot.ly/plotly-2.24.1.min.js\"></script>                <div id=\"07342421-647b-414d-add1-0f23fb1fd01c\" class=\"plotly-graph-div\" style=\"height:400px; width:400px;\"></div>            <script type=\"text/javascript\">                                    window.PLOTLYENV=window.PLOTLYENV || {};                                    if (document.getElementById(\"07342421-647b-414d-add1-0f23fb1fd01c\")) {                    Plotly.newPlot(                        \"07342421-647b-414d-add1-0f23fb1fd01c\",                        [{\"hovertemplate\":\"x=%{x}\\u003cbr\\u003ey=%{y}\\u003cextra\\u003e\\u003c\\u002fextra\\u003e\",\"legendgroup\":\"\",\"marker\":{\"color\":\"#1F77B4\",\"symbol\":\"circle\"},\"mode\":\"markers\",\"name\":\"\",\"orientation\":\"v\",\"showlegend\":false,\"x\":[8,12,5,0,28,27,7,11,21,47,29,17,45,31,23,32,10,15,4,41,39,37,19,44,13,29,15,38,15,49],\"xaxis\":\"x\",\"y\":[1,31,32,21,26,34,11,1,40,6,41,34,40,22,40,15,28,35,4,7,2,42,32,37,7,24,37,45,19,49],\"yaxis\":\"y\",\"type\":\"scatter\"}],                        {\"template\":{\"data\":{\"barpolar\":[{\"marker\":{\"line\":{\"color\":\"white\",\"width\":0.5},\"pattern\":{\"fillmode\":\"overlay\",\"size\":10,\"solidity\":0.2}},\"type\":\"barpolar\"}],\"bar\":[{\"error_x\":{\"color\":\"rgb(36,36,36)\"},\"error_y\":{\"color\":\"rgb(36,36,36)\"},\"marker\":{\"line\":{\"color\":\"white\",\"width\":0.5},\"pattern\":{\"fillmode\":\"overlay\",\"size\":10,\"solidity\":0.2}},\"type\":\"bar\"}],\"carpet\":[{\"aaxis\":{\"endlinecolor\":\"rgb(36,36,36)\",\"gridcolor\":\"white\",\"linecolor\":\"white\",\"minorgridcolor\":\"white\",\"startlinecolor\":\"rgb(36,36,36)\"},\"baxis\":{\"endlinecolor\":\"rgb(36,36,36)\",\"gridcolor\":\"white\",\"linecolor\":\"white\",\"minorgridcolor\":\"white\",\"startlinecolor\":\"rgb(36,36,36)\"},\"type\":\"carpet\"}],\"choropleth\":[{\"colorbar\":{\"outlinewidth\":1,\"tickcolor\":\"rgb(36,36,36)\",\"ticks\":\"outside\"},\"type\":\"choropleth\"}],\"contourcarpet\":[{\"colorbar\":{\"outlinewidth\":1,\"tickcolor\":\"rgb(36,36,36)\",\"ticks\":\"outside\"},\"type\":\"contourcarpet\"}],\"contour\":[{\"colorbar\":{\"outlinewidth\":1,\"tickcolor\":\"rgb(36,36,36)\",\"ticks\":\"outside\"},\"colorscale\":[[0.0,\"#440154\"],[0.1111111111111111,\"#482878\"],[0.2222222222222222,\"#3e4989\"],[0.3333333333333333,\"#31688e\"],[0.4444444444444444,\"#26828e\"],[0.5555555555555556,\"#1f9e89\"],[0.6666666666666666,\"#35b779\"],[0.7777777777777778,\"#6ece58\"],[0.8888888888888888,\"#b5de2b\"],[1.0,\"#fde725\"]],\"type\":\"contour\"}],\"heatmapgl\":[{\"colorbar\":{\"outlinewidth\":1,\"tickcolor\":\"rgb(36,36,36)\",\"ticks\":\"outside\"},\"colorscale\":[[0.0,\"#440154\"],[0.1111111111111111,\"#482878\"],[0.2222222222222222,\"#3e4989\"],[0.3333333333333333,\"#31688e\"],[0.4444444444444444,\"#26828e\"],[0.5555555555555556,\"#1f9e89\"],[0.6666666666666666,\"#35b779\"],[0.7777777777777778,\"#6ece58\"],[0.8888888888888888,\"#b5de2b\"],[1.0,\"#fde725\"]],\"type\":\"heatmapgl\"}],\"heatmap\":[{\"colorbar\":{\"outlinewidth\":1,\"tickcolor\":\"rgb(36,36,36)\",\"ticks\":\"outside\"},\"colorscale\":[[0.0,\"#440154\"],[0.1111111111111111,\"#482878\"],[0.2222222222222222,\"#3e4989\"],[0.3333333333333333,\"#31688e\"],[0.4444444444444444,\"#26828e\"],[0.5555555555555556,\"#1f9e89\"],[0.6666666666666666,\"#35b779\"],[0.7777777777777778,\"#6ece58\"],[0.8888888888888888,\"#b5de2b\"],[1.0,\"#fde725\"]],\"type\":\"heatmap\"}],\"histogram2dcontour\":[{\"colorbar\":{\"outlinewidth\":1,\"tickcolor\":\"rgb(36,36,36)\",\"ticks\":\"outside\"},\"colorscale\":[[0.0,\"#440154\"],[0.1111111111111111,\"#482878\"],[0.2222222222222222,\"#3e4989\"],[0.3333333333333333,\"#31688e\"],[0.4444444444444444,\"#26828e\"],[0.5555555555555556,\"#1f9e89\"],[0.6666666666666666,\"#35b779\"],[0.7777777777777778,\"#6ece58\"],[0.8888888888888888,\"#b5de2b\"],[1.0,\"#fde725\"]],\"type\":\"histogram2dcontour\"}],\"histogram2d\":[{\"colorbar\":{\"outlinewidth\":1,\"tickcolor\":\"rgb(36,36,36)\",\"ticks\":\"outside\"},\"colorscale\":[[0.0,\"#440154\"],[0.1111111111111111,\"#482878\"],[0.2222222222222222,\"#3e4989\"],[0.3333333333333333,\"#31688e\"],[0.4444444444444444,\"#26828e\"],[0.5555555555555556,\"#1f9e89\"],[0.6666666666666666,\"#35b779\"],[0.7777777777777778,\"#6ece58\"],[0.8888888888888888,\"#b5de2b\"],[1.0,\"#fde725\"]],\"type\":\"histogram2d\"}],\"histogram\":[{\"marker\":{\"line\":{\"color\":\"white\",\"width\":0.6}},\"type\":\"histogram\"}],\"mesh3d\":[{\"colorbar\":{\"outlinewidth\":1,\"tickcolor\":\"rgb(36,36,36)\",\"ticks\":\"outside\"},\"type\":\"mesh3d\"}],\"parcoords\":[{\"line\":{\"colorbar\":{\"outlinewidth\":1,\"tickcolor\":\"rgb(36,36,36)\",\"ticks\":\"outside\"}},\"type\":\"parcoords\"}],\"pie\":[{\"automargin\":true,\"type\":\"pie\"}],\"scatter3d\":[{\"line\":{\"colorbar\":{\"outlinewidth\":1,\"tickcolor\":\"rgb(36,36,36)\",\"ticks\":\"outside\"}},\"marker\":{\"colorbar\":{\"outlinewidth\":1,\"tickcolor\":\"rgb(36,36,36)\",\"ticks\":\"outside\"}},\"type\":\"scatter3d\"}],\"scattercarpet\":[{\"marker\":{\"colorbar\":{\"outlinewidth\":1,\"tickcolor\":\"rgb(36,36,36)\",\"ticks\":\"outside\"}},\"type\":\"scattercarpet\"}],\"scattergeo\":[{\"marker\":{\"colorbar\":{\"outlinewidth\":1,\"tickcolor\":\"rgb(36,36,36)\",\"ticks\":\"outside\"}},\"type\":\"scattergeo\"}],\"scattergl\":[{\"marker\":{\"colorbar\":{\"outlinewidth\":1,\"tickcolor\":\"rgb(36,36,36)\",\"ticks\":\"outside\"}},\"type\":\"scattergl\"}],\"scattermapbox\":[{\"marker\":{\"colorbar\":{\"outlinewidth\":1,\"tickcolor\":\"rgb(36,36,36)\",\"ticks\":\"outside\"}},\"type\":\"scattermapbox\"}],\"scatterpolargl\":[{\"marker\":{\"colorbar\":{\"outlinewidth\":1,\"tickcolor\":\"rgb(36,36,36)\",\"ticks\":\"outside\"}},\"type\":\"scatterpolargl\"}],\"scatterpolar\":[{\"marker\":{\"colorbar\":{\"outlinewidth\":1,\"tickcolor\":\"rgb(36,36,36)\",\"ticks\":\"outside\"}},\"type\":\"scatterpolar\"}],\"scatter\":[{\"fillpattern\":{\"fillmode\":\"overlay\",\"size\":10,\"solidity\":0.2},\"type\":\"scatter\"}],\"scatterternary\":[{\"marker\":{\"colorbar\":{\"outlinewidth\":1,\"tickcolor\":\"rgb(36,36,36)\",\"ticks\":\"outside\"}},\"type\":\"scatterternary\"}],\"surface\":[{\"colorbar\":{\"outlinewidth\":1,\"tickcolor\":\"rgb(36,36,36)\",\"ticks\":\"outside\"},\"colorscale\":[[0.0,\"#440154\"],[0.1111111111111111,\"#482878\"],[0.2222222222222222,\"#3e4989\"],[0.3333333333333333,\"#31688e\"],[0.4444444444444444,\"#26828e\"],[0.5555555555555556,\"#1f9e89\"],[0.6666666666666666,\"#35b779\"],[0.7777777777777778,\"#6ece58\"],[0.8888888888888888,\"#b5de2b\"],[1.0,\"#fde725\"]],\"type\":\"surface\"}],\"table\":[{\"cells\":{\"fill\":{\"color\":\"rgb(237,237,237)\"},\"line\":{\"color\":\"white\"}},\"header\":{\"fill\":{\"color\":\"rgb(217,217,217)\"},\"line\":{\"color\":\"white\"}},\"type\":\"table\"}]},\"layout\":{\"annotationdefaults\":{\"arrowhead\":0,\"arrowwidth\":1},\"autotypenumbers\":\"strict\",\"coloraxis\":{\"colorbar\":{\"outlinewidth\":1,\"tickcolor\":\"rgb(36,36,36)\",\"ticks\":\"outside\"}},\"colorscale\":{\"diverging\":[[0.0,\"rgb(103,0,31)\"],[0.1,\"rgb(178,24,43)\"],[0.2,\"rgb(214,96,77)\"],[0.3,\"rgb(244,165,130)\"],[0.4,\"rgb(253,219,199)\"],[0.5,\"rgb(247,247,247)\"],[0.6,\"rgb(209,229,240)\"],[0.7,\"rgb(146,197,222)\"],[0.8,\"rgb(67,147,195)\"],[0.9,\"rgb(33,102,172)\"],[1.0,\"rgb(5,48,97)\"]],\"sequential\":[[0.0,\"#440154\"],[0.1111111111111111,\"#482878\"],[0.2222222222222222,\"#3e4989\"],[0.3333333333333333,\"#31688e\"],[0.4444444444444444,\"#26828e\"],[0.5555555555555556,\"#1f9e89\"],[0.6666666666666666,\"#35b779\"],[0.7777777777777778,\"#6ece58\"],[0.8888888888888888,\"#b5de2b\"],[1.0,\"#fde725\"]],\"sequentialminus\":[[0.0,\"#440154\"],[0.1111111111111111,\"#482878\"],[0.2222222222222222,\"#3e4989\"],[0.3333333333333333,\"#31688e\"],[0.4444444444444444,\"#26828e\"],[0.5555555555555556,\"#1f9e89\"],[0.6666666666666666,\"#35b779\"],[0.7777777777777778,\"#6ece58\"],[0.8888888888888888,\"#b5de2b\"],[1.0,\"#fde725\"]]},\"colorway\":[\"#1F77B4\",\"#FF7F0E\",\"#2CA02C\",\"#D62728\",\"#9467BD\",\"#8C564B\",\"#E377C2\",\"#7F7F7F\",\"#BCBD22\",\"#17BECF\"],\"font\":{\"color\":\"rgb(36,36,36)\"},\"geo\":{\"bgcolor\":\"white\",\"lakecolor\":\"white\",\"landcolor\":\"white\",\"showlakes\":true,\"showland\":true,\"subunitcolor\":\"white\"},\"hoverlabel\":{\"align\":\"left\"},\"hovermode\":\"closest\",\"mapbox\":{\"style\":\"light\"},\"paper_bgcolor\":\"white\",\"plot_bgcolor\":\"white\",\"polar\":{\"angularaxis\":{\"gridcolor\":\"rgb(232,232,232)\",\"linecolor\":\"rgb(36,36,36)\",\"showgrid\":false,\"showline\":true,\"ticks\":\"outside\"},\"bgcolor\":\"white\",\"radialaxis\":{\"gridcolor\":\"rgb(232,232,232)\",\"linecolor\":\"rgb(36,36,36)\",\"showgrid\":false,\"showline\":true,\"ticks\":\"outside\"}},\"scene\":{\"xaxis\":{\"backgroundcolor\":\"white\",\"gridcolor\":\"rgb(232,232,232)\",\"gridwidth\":2,\"linecolor\":\"rgb(36,36,36)\",\"showbackground\":true,\"showgrid\":false,\"showline\":true,\"ticks\":\"outside\",\"zeroline\":false,\"zerolinecolor\":\"rgb(36,36,36)\"},\"yaxis\":{\"backgroundcolor\":\"white\",\"gridcolor\":\"rgb(232,232,232)\",\"gridwidth\":2,\"linecolor\":\"rgb(36,36,36)\",\"showbackground\":true,\"showgrid\":false,\"showline\":true,\"ticks\":\"outside\",\"zeroline\":false,\"zerolinecolor\":\"rgb(36,36,36)\"},\"zaxis\":{\"backgroundcolor\":\"white\",\"gridcolor\":\"rgb(232,232,232)\",\"gridwidth\":2,\"linecolor\":\"rgb(36,36,36)\",\"showbackground\":true,\"showgrid\":false,\"showline\":true,\"ticks\":\"outside\",\"zeroline\":false,\"zerolinecolor\":\"rgb(36,36,36)\"}},\"shapedefaults\":{\"fillcolor\":\"black\",\"line\":{\"width\":0},\"opacity\":0.3},\"ternary\":{\"aaxis\":{\"gridcolor\":\"rgb(232,232,232)\",\"linecolor\":\"rgb(36,36,36)\",\"showgrid\":false,\"showline\":true,\"ticks\":\"outside\"},\"baxis\":{\"gridcolor\":\"rgb(232,232,232)\",\"linecolor\":\"rgb(36,36,36)\",\"showgrid\":false,\"showline\":true,\"ticks\":\"outside\"},\"bgcolor\":\"white\",\"caxis\":{\"gridcolor\":\"rgb(232,232,232)\",\"linecolor\":\"rgb(36,36,36)\",\"showgrid\":false,\"showline\":true,\"ticks\":\"outside\"}},\"title\":{\"x\":0.05},\"xaxis\":{\"automargin\":true,\"gridcolor\":\"rgb(232,232,232)\",\"linecolor\":\"rgb(36,36,36)\",\"showgrid\":false,\"showline\":true,\"ticks\":\"outside\",\"title\":{\"standoff\":15},\"zeroline\":false,\"zerolinecolor\":\"rgb(36,36,36)\"},\"yaxis\":{\"automargin\":true,\"gridcolor\":\"rgb(232,232,232)\",\"linecolor\":\"rgb(36,36,36)\",\"showgrid\":false,\"showline\":true,\"ticks\":\"outside\",\"title\":{\"standoff\":15},\"zeroline\":false,\"zerolinecolor\":\"rgb(36,36,36)\"}}},\"xaxis\":{\"anchor\":\"y\",\"domain\":[0.0,1.0],\"title\":{\"text\":\"x\"}},\"yaxis\":{\"anchor\":\"x\",\"domain\":[0.0,1.0],\"title\":{\"text\":\"y\"}},\"legend\":{\"tracegroupgap\":0},\"margin\":{\"t\":20,\"l\":20,\"r\":20,\"b\":20},\"height\":400,\"width\":400,\"paper_bgcolor\":\"#f7f8fa\"},                        {\"responsive\": true}                    ).then(function(){\n",
              "                            \n",
              "var gd = document.getElementById('07342421-647b-414d-add1-0f23fb1fd01c');\n",
              "var x = new MutationObserver(function (mutations, observer) {{\n",
              "        var display = window.getComputedStyle(gd).display;\n",
              "        if (!display || display === 'none') {{\n",
              "            console.log([gd, 'removed!']);\n",
              "            Plotly.purge(gd);\n",
              "            observer.disconnect();\n",
              "        }}\n",
              "}});\n",
              "\n",
              "// Listen for the removal of the full notebook cells\n",
              "var notebookContainer = gd.closest('#notebook-container');\n",
              "if (notebookContainer) {{\n",
              "    x.observe(notebookContainer, {childList: true});\n",
              "}}\n",
              "\n",
              "// Listen for the clearing of the current output cell\n",
              "var outputEl = gd.closest('.output');\n",
              "if (outputEl) {{\n",
              "    x.observe(outputEl, {childList: true});\n",
              "}}\n",
              "\n",
              "                        })                };                            </script>        </div>\n",
              "</body>\n",
              "</html>"
            ]
          },
          "metadata": {}
        }
      ]
    },
    {
      "cell_type": "markdown",
      "source": [
        "**Considerando a complexidade do universo de dados do mercado financeiro...**"
      ],
      "metadata": {
        "id": "vG9F9YrGNvc5"
      }
    },
    {
      "cell_type": "markdown",
      "source": [
        "Utilizamos estatística para, dentre outras coisas:\n",
        "\n",
        "* Padronizar as interpretações\n",
        "\n",
        "* Magnitude do relação/efeito\n",
        "\n",
        "* Probabilidade de que o padrão se repita"
      ],
      "metadata": {
        "id": "nBWPgvygISY4"
      }
    },
    {
      "cell_type": "code",
      "source": [
        "corr, p = stats.pearsonr(a, b)\n",
        "print(f'Correlação de Pearson, r={corr:.3f} p={p:.3f}')"
      ],
      "metadata": {
        "id": "XMdGtBXfx74p",
        "colab": {
          "base_uri": "https://localhost:8080/"
        },
        "outputId": "95b2e656-fa63-428d-f8fe-bff08454f1c8"
      },
      "execution_count": 2,
      "outputs": [
        {
          "output_type": "stream",
          "name": "stdout",
          "text": [
            "Correlação de Pearson, r=0.296 p=0.112\n"
          ]
        }
      ]
    },
    {
      "cell_type": "markdown",
      "source": [
        "## **1. Bibliotecas**"
      ],
      "metadata": {
        "id": "8GK4wuO6GoPY"
      }
    },
    {
      "cell_type": "code",
      "source": [
        "!pip install yfinance\n",
        "!pip install vectorbt\n",
        "!pip install sweetviz"
      ],
      "metadata": {
        "colab": {
          "base_uri": "https://localhost:8080/"
        },
        "id": "aqMsykymRgCJ",
        "outputId": "d01a8600-745e-4c23-aa89-13af3b52d06c"
      },
      "execution_count": 3,
      "outputs": [
        {
          "output_type": "stream",
          "name": "stdout",
          "text": [
            "Requirement already satisfied: yfinance in /usr/local/lib/python3.10/dist-packages (0.2.33)\n",
            "Requirement already satisfied: pandas>=1.3.0 in /usr/local/lib/python3.10/dist-packages (from yfinance) (1.5.3)\n",
            "Requirement already satisfied: numpy>=1.16.5 in /usr/local/lib/python3.10/dist-packages (from yfinance) (1.23.5)\n",
            "Requirement already satisfied: requests>=2.31 in /usr/local/lib/python3.10/dist-packages (from yfinance) (2.31.0)\n",
            "Requirement already satisfied: multitasking>=0.0.7 in /usr/local/lib/python3.10/dist-packages (from yfinance) (0.0.11)\n",
            "Requirement already satisfied: lxml>=4.9.1 in /usr/local/lib/python3.10/dist-packages (from yfinance) (4.9.4)\n",
            "Requirement already satisfied: appdirs>=1.4.4 in /usr/local/lib/python3.10/dist-packages (from yfinance) (1.4.4)\n",
            "Requirement already satisfied: pytz>=2022.5 in /usr/local/lib/python3.10/dist-packages (from yfinance) (2023.3.post1)\n",
            "Requirement already satisfied: frozendict>=2.3.4 in /usr/local/lib/python3.10/dist-packages (from yfinance) (2.4.0)\n",
            "Requirement already satisfied: peewee>=3.16.2 in /usr/local/lib/python3.10/dist-packages (from yfinance) (3.17.0)\n",
            "Requirement already satisfied: beautifulsoup4>=4.11.1 in /usr/local/lib/python3.10/dist-packages (from yfinance) (4.11.2)\n",
            "Requirement already satisfied: html5lib>=1.1 in /usr/local/lib/python3.10/dist-packages (from yfinance) (1.1)\n",
            "Requirement already satisfied: soupsieve>1.2 in /usr/local/lib/python3.10/dist-packages (from beautifulsoup4>=4.11.1->yfinance) (2.5)\n",
            "Requirement already satisfied: six>=1.9 in /usr/local/lib/python3.10/dist-packages (from html5lib>=1.1->yfinance) (1.16.0)\n",
            "Requirement already satisfied: webencodings in /usr/local/lib/python3.10/dist-packages (from html5lib>=1.1->yfinance) (0.5.1)\n",
            "Requirement already satisfied: python-dateutil>=2.8.1 in /usr/local/lib/python3.10/dist-packages (from pandas>=1.3.0->yfinance) (2.8.2)\n",
            "Requirement already satisfied: charset-normalizer<4,>=2 in /usr/local/lib/python3.10/dist-packages (from requests>=2.31->yfinance) (3.3.2)\n",
            "Requirement already satisfied: idna<4,>=2.5 in /usr/local/lib/python3.10/dist-packages (from requests>=2.31->yfinance) (3.6)\n",
            "Requirement already satisfied: urllib3<3,>=1.21.1 in /usr/local/lib/python3.10/dist-packages (from requests>=2.31->yfinance) (2.0.7)\n",
            "Requirement already satisfied: certifi>=2017.4.17 in /usr/local/lib/python3.10/dist-packages (from requests>=2.31->yfinance) (2023.11.17)\n",
            "Collecting vectorbt\n",
            "  Downloading vectorbt-0.25.5-py3-none-any.whl (526 kB)\n",
            "\u001b[2K     \u001b[90m━━━━━━━━━━━━━━━━━━━━━━━━━━━━━━━━━━━━━━━━\u001b[0m \u001b[32m526.7/526.7 kB\u001b[0m \u001b[31m5.3 MB/s\u001b[0m eta \u001b[36m0:00:00\u001b[0m\n",
            "\u001b[?25hRequirement already satisfied: numpy>=1.16.5 in /usr/local/lib/python3.10/dist-packages (from vectorbt) (1.23.5)\n",
            "Requirement already satisfied: pandas in /usr/local/lib/python3.10/dist-packages (from vectorbt) (1.5.3)\n",
            "Requirement already satisfied: scipy in /usr/local/lib/python3.10/dist-packages (from vectorbt) (1.11.4)\n",
            "Requirement already satisfied: matplotlib in /usr/local/lib/python3.10/dist-packages (from vectorbt) (3.7.1)\n",
            "Requirement already satisfied: plotly>=4.12.0 in /usr/local/lib/python3.10/dist-packages (from vectorbt) (5.15.0)\n",
            "Requirement already satisfied: ipywidgets>=7.0.0 in /usr/local/lib/python3.10/dist-packages (from vectorbt) (7.7.1)\n",
            "Collecting dill (from vectorbt)\n",
            "  Downloading dill-0.3.7-py3-none-any.whl (115 kB)\n",
            "\u001b[2K     \u001b[90m━━━━━━━━━━━━━━━━━━━━━━━━━━━━━━━━━━━━━━━━\u001b[0m \u001b[32m115.3/115.3 kB\u001b[0m \u001b[31m12.2 MB/s\u001b[0m eta \u001b[36m0:00:00\u001b[0m\n",
            "\u001b[?25hRequirement already satisfied: tqdm in /usr/local/lib/python3.10/dist-packages (from vectorbt) (4.66.1)\n",
            "Collecting dateparser (from vectorbt)\n",
            "  Downloading dateparser-1.2.0-py2.py3-none-any.whl (294 kB)\n",
            "\u001b[2K     \u001b[90m━━━━━━━━━━━━━━━━━━━━━━━━━━━━━━━━━━━━━━━━\u001b[0m \u001b[32m295.0/295.0 kB\u001b[0m \u001b[31m21.0 MB/s\u001b[0m eta \u001b[36m0:00:00\u001b[0m\n",
            "\u001b[?25hRequirement already satisfied: imageio in /usr/local/lib/python3.10/dist-packages (from vectorbt) (2.31.6)\n",
            "Requirement already satisfied: scikit-learn in /usr/local/lib/python3.10/dist-packages (from vectorbt) (1.2.2)\n",
            "Collecting schedule (from vectorbt)\n",
            "  Downloading schedule-1.2.1-py2.py3-none-any.whl (11 kB)\n",
            "Requirement already satisfied: requests in /usr/local/lib/python3.10/dist-packages (from vectorbt) (2.31.0)\n",
            "Requirement already satisfied: pytz in /usr/local/lib/python3.10/dist-packages (from vectorbt) (2023.3.post1)\n",
            "Collecting mypy-extensions (from vectorbt)\n",
            "  Downloading mypy_extensions-1.0.0-py3-none-any.whl (4.7 kB)\n",
            "Collecting numba<0.57.0,>=0.56.0 (from vectorbt)\n",
            "  Downloading numba-0.56.4-cp310-cp310-manylinux2014_x86_64.manylinux_2_17_x86_64.whl (3.5 MB)\n",
            "\u001b[2K     \u001b[90m━━━━━━━━━━━━━━━━━━━━━━━━━━━━━━━━━━━━━━━━\u001b[0m \u001b[32m3.5/3.5 MB\u001b[0m \u001b[31m48.4 MB/s\u001b[0m eta \u001b[36m0:00:00\u001b[0m\n",
            "\u001b[?25hRequirement already satisfied: ipykernel>=4.5.1 in /usr/local/lib/python3.10/dist-packages (from ipywidgets>=7.0.0->vectorbt) (5.5.6)\n",
            "Requirement already satisfied: ipython-genutils~=0.2.0 in /usr/local/lib/python3.10/dist-packages (from ipywidgets>=7.0.0->vectorbt) (0.2.0)\n",
            "Requirement already satisfied: traitlets>=4.3.1 in /usr/local/lib/python3.10/dist-packages (from ipywidgets>=7.0.0->vectorbt) (5.7.1)\n",
            "Requirement already satisfied: widgetsnbextension~=3.6.0 in /usr/local/lib/python3.10/dist-packages (from ipywidgets>=7.0.0->vectorbt) (3.6.6)\n",
            "Requirement already satisfied: ipython>=4.0.0 in /usr/local/lib/python3.10/dist-packages (from ipywidgets>=7.0.0->vectorbt) (7.34.0)\n",
            "Requirement already satisfied: jupyterlab-widgets>=1.0.0 in /usr/local/lib/python3.10/dist-packages (from ipywidgets>=7.0.0->vectorbt) (3.0.9)\n",
            "Collecting llvmlite<0.40,>=0.39.0dev0 (from numba<0.57.0,>=0.56.0->vectorbt)\n",
            "  Downloading llvmlite-0.39.1-cp310-cp310-manylinux_2_17_x86_64.manylinux2014_x86_64.whl (34.6 MB)\n",
            "\u001b[2K     \u001b[90m━━━━━━━━━━━━━━━━━━━━━━━━━━━━━━━━━━━━━━━━\u001b[0m \u001b[32m34.6/34.6 MB\u001b[0m \u001b[31m17.8 MB/s\u001b[0m eta \u001b[36m0:00:00\u001b[0m\n",
            "\u001b[?25hRequirement already satisfied: setuptools in /usr/local/lib/python3.10/dist-packages (from numba<0.57.0,>=0.56.0->vectorbt) (67.7.2)\n",
            "Requirement already satisfied: tenacity>=6.2.0 in /usr/local/lib/python3.10/dist-packages (from plotly>=4.12.0->vectorbt) (8.2.3)\n",
            "Requirement already satisfied: packaging in /usr/local/lib/python3.10/dist-packages (from plotly>=4.12.0->vectorbt) (23.2)\n",
            "Requirement already satisfied: python-dateutil in /usr/local/lib/python3.10/dist-packages (from dateparser->vectorbt) (2.8.2)\n",
            "Requirement already satisfied: regex!=2019.02.19,!=2021.8.27 in /usr/local/lib/python3.10/dist-packages (from dateparser->vectorbt) (2023.6.3)\n",
            "Requirement already satisfied: tzlocal in /usr/local/lib/python3.10/dist-packages (from dateparser->vectorbt) (5.2)\n",
            "Requirement already satisfied: pillow<10.1.0,>=8.3.2 in /usr/local/lib/python3.10/dist-packages (from imageio->vectorbt) (9.4.0)\n",
            "Requirement already satisfied: contourpy>=1.0.1 in /usr/local/lib/python3.10/dist-packages (from matplotlib->vectorbt) (1.2.0)\n",
            "Requirement already satisfied: cycler>=0.10 in /usr/local/lib/python3.10/dist-packages (from matplotlib->vectorbt) (0.12.1)\n",
            "Requirement already satisfied: fonttools>=4.22.0 in /usr/local/lib/python3.10/dist-packages (from matplotlib->vectorbt) (4.47.0)\n",
            "Requirement already satisfied: kiwisolver>=1.0.1 in /usr/local/lib/python3.10/dist-packages (from matplotlib->vectorbt) (1.4.5)\n",
            "Requirement already satisfied: pyparsing>=2.3.1 in /usr/local/lib/python3.10/dist-packages (from matplotlib->vectorbt) (3.1.1)\n",
            "Requirement already satisfied: charset-normalizer<4,>=2 in /usr/local/lib/python3.10/dist-packages (from requests->vectorbt) (3.3.2)\n",
            "Requirement already satisfied: idna<4,>=2.5 in /usr/local/lib/python3.10/dist-packages (from requests->vectorbt) (3.6)\n",
            "Requirement already satisfied: urllib3<3,>=1.21.1 in /usr/local/lib/python3.10/dist-packages (from requests->vectorbt) (2.0.7)\n",
            "Requirement already satisfied: certifi>=2017.4.17 in /usr/local/lib/python3.10/dist-packages (from requests->vectorbt) (2023.11.17)\n",
            "Requirement already satisfied: joblib>=1.1.1 in /usr/local/lib/python3.10/dist-packages (from scikit-learn->vectorbt) (1.3.2)\n",
            "Requirement already satisfied: threadpoolctl>=2.0.0 in /usr/local/lib/python3.10/dist-packages (from scikit-learn->vectorbt) (3.2.0)\n",
            "Requirement already satisfied: jupyter-client in /usr/local/lib/python3.10/dist-packages (from ipykernel>=4.5.1->ipywidgets>=7.0.0->vectorbt) (6.1.12)\n",
            "Requirement already satisfied: tornado>=4.2 in /usr/local/lib/python3.10/dist-packages (from ipykernel>=4.5.1->ipywidgets>=7.0.0->vectorbt) (6.3.2)\n",
            "Collecting jedi>=0.16 (from ipython>=4.0.0->ipywidgets>=7.0.0->vectorbt)\n",
            "  Downloading jedi-0.19.1-py2.py3-none-any.whl (1.6 MB)\n",
            "\u001b[2K     \u001b[90m━━━━━━━━━━━━━━━━━━━━━━━━━━━━━━━━━━━━━━━━\u001b[0m \u001b[32m1.6/1.6 MB\u001b[0m \u001b[31m61.6 MB/s\u001b[0m eta \u001b[36m0:00:00\u001b[0m\n",
            "\u001b[?25hRequirement already satisfied: decorator in /usr/local/lib/python3.10/dist-packages (from ipython>=4.0.0->ipywidgets>=7.0.0->vectorbt) (4.4.2)\n",
            "Requirement already satisfied: pickleshare in /usr/local/lib/python3.10/dist-packages (from ipython>=4.0.0->ipywidgets>=7.0.0->vectorbt) (0.7.5)\n",
            "Requirement already satisfied: prompt-toolkit!=3.0.0,!=3.0.1,<3.1.0,>=2.0.0 in /usr/local/lib/python3.10/dist-packages (from ipython>=4.0.0->ipywidgets>=7.0.0->vectorbt) (3.0.43)\n",
            "Requirement already satisfied: pygments in /usr/local/lib/python3.10/dist-packages (from ipython>=4.0.0->ipywidgets>=7.0.0->vectorbt) (2.16.1)\n",
            "Requirement already satisfied: backcall in /usr/local/lib/python3.10/dist-packages (from ipython>=4.0.0->ipywidgets>=7.0.0->vectorbt) (0.2.0)\n",
            "Requirement already satisfied: matplotlib-inline in /usr/local/lib/python3.10/dist-packages (from ipython>=4.0.0->ipywidgets>=7.0.0->vectorbt) (0.1.6)\n",
            "Requirement already satisfied: pexpect>4.3 in /usr/local/lib/python3.10/dist-packages (from ipython>=4.0.0->ipywidgets>=7.0.0->vectorbt) (4.9.0)\n",
            "Requirement already satisfied: six>=1.5 in /usr/local/lib/python3.10/dist-packages (from python-dateutil->dateparser->vectorbt) (1.16.0)\n",
            "Requirement already satisfied: notebook>=4.4.1 in /usr/local/lib/python3.10/dist-packages (from widgetsnbextension~=3.6.0->ipywidgets>=7.0.0->vectorbt) (6.5.5)\n",
            "Requirement already satisfied: parso<0.9.0,>=0.8.3 in /usr/local/lib/python3.10/dist-packages (from jedi>=0.16->ipython>=4.0.0->ipywidgets>=7.0.0->vectorbt) (0.8.3)\n",
            "Requirement already satisfied: jinja2 in /usr/local/lib/python3.10/dist-packages (from notebook>=4.4.1->widgetsnbextension~=3.6.0->ipywidgets>=7.0.0->vectorbt) (3.1.2)\n",
            "Requirement already satisfied: pyzmq<25,>=17 in /usr/local/lib/python3.10/dist-packages (from notebook>=4.4.1->widgetsnbextension~=3.6.0->ipywidgets>=7.0.0->vectorbt) (23.2.1)\n",
            "Requirement already satisfied: argon2-cffi in /usr/local/lib/python3.10/dist-packages (from notebook>=4.4.1->widgetsnbextension~=3.6.0->ipywidgets>=7.0.0->vectorbt) (23.1.0)\n",
            "Requirement already satisfied: jupyter-core>=4.6.1 in /usr/local/lib/python3.10/dist-packages (from notebook>=4.4.1->widgetsnbextension~=3.6.0->ipywidgets>=7.0.0->vectorbt) (5.7.0)\n",
            "Requirement already satisfied: nbformat in /usr/local/lib/python3.10/dist-packages (from notebook>=4.4.1->widgetsnbextension~=3.6.0->ipywidgets>=7.0.0->vectorbt) (5.9.2)\n",
            "Requirement already satisfied: nbconvert>=5 in /usr/local/lib/python3.10/dist-packages (from notebook>=4.4.1->widgetsnbextension~=3.6.0->ipywidgets>=7.0.0->vectorbt) (6.5.4)\n",
            "Requirement already satisfied: nest-asyncio>=1.5 in /usr/local/lib/python3.10/dist-packages (from notebook>=4.4.1->widgetsnbextension~=3.6.0->ipywidgets>=7.0.0->vectorbt) (1.5.8)\n",
            "Requirement already satisfied: Send2Trash>=1.8.0 in /usr/local/lib/python3.10/dist-packages (from notebook>=4.4.1->widgetsnbextension~=3.6.0->ipywidgets>=7.0.0->vectorbt) (1.8.2)\n",
            "Requirement already satisfied: terminado>=0.8.3 in /usr/local/lib/python3.10/dist-packages (from notebook>=4.4.1->widgetsnbextension~=3.6.0->ipywidgets>=7.0.0->vectorbt) (0.18.0)\n",
            "Requirement already satisfied: prometheus-client in /usr/local/lib/python3.10/dist-packages (from notebook>=4.4.1->widgetsnbextension~=3.6.0->ipywidgets>=7.0.0->vectorbt) (0.19.0)\n",
            "Requirement already satisfied: nbclassic>=0.4.7 in /usr/local/lib/python3.10/dist-packages (from notebook>=4.4.1->widgetsnbextension~=3.6.0->ipywidgets>=7.0.0->vectorbt) (1.0.0)\n",
            "Requirement already satisfied: ptyprocess>=0.5 in /usr/local/lib/python3.10/dist-packages (from pexpect>4.3->ipython>=4.0.0->ipywidgets>=7.0.0->vectorbt) (0.7.0)\n",
            "Requirement already satisfied: wcwidth in /usr/local/lib/python3.10/dist-packages (from prompt-toolkit!=3.0.0,!=3.0.1,<3.1.0,>=2.0.0->ipython>=4.0.0->ipywidgets>=7.0.0->vectorbt) (0.2.12)\n",
            "Requirement already satisfied: platformdirs>=2.5 in /usr/local/lib/python3.10/dist-packages (from jupyter-core>=4.6.1->notebook>=4.4.1->widgetsnbextension~=3.6.0->ipywidgets>=7.0.0->vectorbt) (4.1.0)\n",
            "Requirement already satisfied: jupyter-server>=1.8 in /usr/local/lib/python3.10/dist-packages (from nbclassic>=0.4.7->notebook>=4.4.1->widgetsnbextension~=3.6.0->ipywidgets>=7.0.0->vectorbt) (1.24.0)\n",
            "Requirement already satisfied: notebook-shim>=0.2.3 in /usr/local/lib/python3.10/dist-packages (from nbclassic>=0.4.7->notebook>=4.4.1->widgetsnbextension~=3.6.0->ipywidgets>=7.0.0->vectorbt) (0.2.3)\n",
            "Requirement already satisfied: lxml in /usr/local/lib/python3.10/dist-packages (from nbconvert>=5->notebook>=4.4.1->widgetsnbextension~=3.6.0->ipywidgets>=7.0.0->vectorbt) (4.9.4)\n",
            "Requirement already satisfied: beautifulsoup4 in /usr/local/lib/python3.10/dist-packages (from nbconvert>=5->notebook>=4.4.1->widgetsnbextension~=3.6.0->ipywidgets>=7.0.0->vectorbt) (4.11.2)\n",
            "Requirement already satisfied: bleach in /usr/local/lib/python3.10/dist-packages (from nbconvert>=5->notebook>=4.4.1->widgetsnbextension~=3.6.0->ipywidgets>=7.0.0->vectorbt) (6.1.0)\n",
            "Requirement already satisfied: defusedxml in /usr/local/lib/python3.10/dist-packages (from nbconvert>=5->notebook>=4.4.1->widgetsnbextension~=3.6.0->ipywidgets>=7.0.0->vectorbt) (0.7.1)\n",
            "Requirement already satisfied: entrypoints>=0.2.2 in /usr/local/lib/python3.10/dist-packages (from nbconvert>=5->notebook>=4.4.1->widgetsnbextension~=3.6.0->ipywidgets>=7.0.0->vectorbt) (0.4)\n",
            "Requirement already satisfied: jupyterlab-pygments in /usr/local/lib/python3.10/dist-packages (from nbconvert>=5->notebook>=4.4.1->widgetsnbextension~=3.6.0->ipywidgets>=7.0.0->vectorbt) (0.3.0)\n",
            "Requirement already satisfied: MarkupSafe>=2.0 in /usr/local/lib/python3.10/dist-packages (from nbconvert>=5->notebook>=4.4.1->widgetsnbextension~=3.6.0->ipywidgets>=7.0.0->vectorbt) (2.1.3)\n",
            "Requirement already satisfied: mistune<2,>=0.8.1 in /usr/local/lib/python3.10/dist-packages (from nbconvert>=5->notebook>=4.4.1->widgetsnbextension~=3.6.0->ipywidgets>=7.0.0->vectorbt) (0.8.4)\n",
            "Requirement already satisfied: nbclient>=0.5.0 in /usr/local/lib/python3.10/dist-packages (from nbconvert>=5->notebook>=4.4.1->widgetsnbextension~=3.6.0->ipywidgets>=7.0.0->vectorbt) (0.9.0)\n",
            "Requirement already satisfied: pandocfilters>=1.4.1 in /usr/local/lib/python3.10/dist-packages (from nbconvert>=5->notebook>=4.4.1->widgetsnbextension~=3.6.0->ipywidgets>=7.0.0->vectorbt) (1.5.0)\n",
            "Requirement already satisfied: tinycss2 in /usr/local/lib/python3.10/dist-packages (from nbconvert>=5->notebook>=4.4.1->widgetsnbextension~=3.6.0->ipywidgets>=7.0.0->vectorbt) (1.2.1)\n",
            "Requirement already satisfied: fastjsonschema in /usr/local/lib/python3.10/dist-packages (from nbformat->notebook>=4.4.1->widgetsnbextension~=3.6.0->ipywidgets>=7.0.0->vectorbt) (2.19.1)\n",
            "Requirement already satisfied: jsonschema>=2.6 in /usr/local/lib/python3.10/dist-packages (from nbformat->notebook>=4.4.1->widgetsnbextension~=3.6.0->ipywidgets>=7.0.0->vectorbt) (4.19.2)\n",
            "Requirement already satisfied: argon2-cffi-bindings in /usr/local/lib/python3.10/dist-packages (from argon2-cffi->notebook>=4.4.1->widgetsnbextension~=3.6.0->ipywidgets>=7.0.0->vectorbt) (21.2.0)\n",
            "Requirement already satisfied: attrs>=22.2.0 in /usr/local/lib/python3.10/dist-packages (from jsonschema>=2.6->nbformat->notebook>=4.4.1->widgetsnbextension~=3.6.0->ipywidgets>=7.0.0->vectorbt) (23.2.0)\n",
            "Requirement already satisfied: jsonschema-specifications>=2023.03.6 in /usr/local/lib/python3.10/dist-packages (from jsonschema>=2.6->nbformat->notebook>=4.4.1->widgetsnbextension~=3.6.0->ipywidgets>=7.0.0->vectorbt) (2023.12.1)\n",
            "Requirement already satisfied: referencing>=0.28.4 in /usr/local/lib/python3.10/dist-packages (from jsonschema>=2.6->nbformat->notebook>=4.4.1->widgetsnbextension~=3.6.0->ipywidgets>=7.0.0->vectorbt) (0.32.0)\n",
            "Requirement already satisfied: rpds-py>=0.7.1 in /usr/local/lib/python3.10/dist-packages (from jsonschema>=2.6->nbformat->notebook>=4.4.1->widgetsnbextension~=3.6.0->ipywidgets>=7.0.0->vectorbt) (0.16.2)\n",
            "Requirement already satisfied: anyio<4,>=3.1.0 in /usr/local/lib/python3.10/dist-packages (from jupyter-server>=1.8->nbclassic>=0.4.7->notebook>=4.4.1->widgetsnbextension~=3.6.0->ipywidgets>=7.0.0->vectorbt) (3.7.1)\n",
            "Requirement already satisfied: websocket-client in /usr/local/lib/python3.10/dist-packages (from jupyter-server>=1.8->nbclassic>=0.4.7->notebook>=4.4.1->widgetsnbextension~=3.6.0->ipywidgets>=7.0.0->vectorbt) (1.7.0)\n",
            "Requirement already satisfied: cffi>=1.0.1 in /usr/local/lib/python3.10/dist-packages (from argon2-cffi-bindings->argon2-cffi->notebook>=4.4.1->widgetsnbextension~=3.6.0->ipywidgets>=7.0.0->vectorbt) (1.16.0)\n",
            "Requirement already satisfied: soupsieve>1.2 in /usr/local/lib/python3.10/dist-packages (from beautifulsoup4->nbconvert>=5->notebook>=4.4.1->widgetsnbextension~=3.6.0->ipywidgets>=7.0.0->vectorbt) (2.5)\n",
            "Requirement already satisfied: webencodings in /usr/local/lib/python3.10/dist-packages (from bleach->nbconvert>=5->notebook>=4.4.1->widgetsnbextension~=3.6.0->ipywidgets>=7.0.0->vectorbt) (0.5.1)\n",
            "Requirement already satisfied: sniffio>=1.1 in /usr/local/lib/python3.10/dist-packages (from anyio<4,>=3.1.0->jupyter-server>=1.8->nbclassic>=0.4.7->notebook>=4.4.1->widgetsnbextension~=3.6.0->ipywidgets>=7.0.0->vectorbt) (1.3.0)\n",
            "Requirement already satisfied: exceptiongroup in /usr/local/lib/python3.10/dist-packages (from anyio<4,>=3.1.0->jupyter-server>=1.8->nbclassic>=0.4.7->notebook>=4.4.1->widgetsnbextension~=3.6.0->ipywidgets>=7.0.0->vectorbt) (1.2.0)\n",
            "Requirement already satisfied: pycparser in /usr/local/lib/python3.10/dist-packages (from cffi>=1.0.1->argon2-cffi-bindings->argon2-cffi->notebook>=4.4.1->widgetsnbextension~=3.6.0->ipywidgets>=7.0.0->vectorbt) (2.21)\n",
            "Installing collected packages: schedule, mypy-extensions, llvmlite, jedi, dill, numba, dateparser, vectorbt\n",
            "  Attempting uninstall: llvmlite\n",
            "    Found existing installation: llvmlite 0.41.1\n",
            "    Uninstalling llvmlite-0.41.1:\n",
            "      Successfully uninstalled llvmlite-0.41.1\n",
            "  Attempting uninstall: numba\n",
            "    Found existing installation: numba 0.58.1\n",
            "    Uninstalling numba-0.58.1:\n",
            "      Successfully uninstalled numba-0.58.1\n",
            "Successfully installed dateparser-1.2.0 dill-0.3.7 jedi-0.19.1 llvmlite-0.39.1 mypy-extensions-1.0.0 numba-0.56.4 schedule-1.2.1 vectorbt-0.25.5\n",
            "Collecting sweetviz\n",
            "  Downloading sweetviz-2.3.1-py3-none-any.whl (15.1 MB)\n",
            "\u001b[2K     \u001b[90m━━━━━━━━━━━━━━━━━━━━━━━━━━━━━━━━━━━━━━━━\u001b[0m \u001b[32m15.1/15.1 MB\u001b[0m \u001b[31m76.1 MB/s\u001b[0m eta \u001b[36m0:00:00\u001b[0m\n",
            "\u001b[?25hRequirement already satisfied: pandas!=1.0.0,!=1.0.1,!=1.0.2,>=0.25.3 in /usr/local/lib/python3.10/dist-packages (from sweetviz) (1.5.3)\n",
            "Requirement already satisfied: numpy>=1.16.0 in /usr/local/lib/python3.10/dist-packages (from sweetviz) (1.23.5)\n",
            "Requirement already satisfied: matplotlib>=3.1.3 in /usr/local/lib/python3.10/dist-packages (from sweetviz) (3.7.1)\n",
            "Requirement already satisfied: tqdm>=4.43.0 in /usr/local/lib/python3.10/dist-packages (from sweetviz) (4.66.1)\n",
            "Requirement already satisfied: scipy>=1.3.2 in /usr/local/lib/python3.10/dist-packages (from sweetviz) (1.11.4)\n",
            "Requirement already satisfied: jinja2>=2.11.1 in /usr/local/lib/python3.10/dist-packages (from sweetviz) (3.1.2)\n",
            "Requirement already satisfied: importlib-resources>=1.2.0 in /usr/local/lib/python3.10/dist-packages (from sweetviz) (6.1.1)\n",
            "Requirement already satisfied: MarkupSafe>=2.0 in /usr/local/lib/python3.10/dist-packages (from jinja2>=2.11.1->sweetviz) (2.1.3)\n",
            "Requirement already satisfied: contourpy>=1.0.1 in /usr/local/lib/python3.10/dist-packages (from matplotlib>=3.1.3->sweetviz) (1.2.0)\n",
            "Requirement already satisfied: cycler>=0.10 in /usr/local/lib/python3.10/dist-packages (from matplotlib>=3.1.3->sweetviz) (0.12.1)\n",
            "Requirement already satisfied: fonttools>=4.22.0 in /usr/local/lib/python3.10/dist-packages (from matplotlib>=3.1.3->sweetviz) (4.47.0)\n",
            "Requirement already satisfied: kiwisolver>=1.0.1 in /usr/local/lib/python3.10/dist-packages (from matplotlib>=3.1.3->sweetviz) (1.4.5)\n",
            "Requirement already satisfied: packaging>=20.0 in /usr/local/lib/python3.10/dist-packages (from matplotlib>=3.1.3->sweetviz) (23.2)\n",
            "Requirement already satisfied: pillow>=6.2.0 in /usr/local/lib/python3.10/dist-packages (from matplotlib>=3.1.3->sweetviz) (9.4.0)\n",
            "Requirement already satisfied: pyparsing>=2.3.1 in /usr/local/lib/python3.10/dist-packages (from matplotlib>=3.1.3->sweetviz) (3.1.1)\n",
            "Requirement already satisfied: python-dateutil>=2.7 in /usr/local/lib/python3.10/dist-packages (from matplotlib>=3.1.3->sweetviz) (2.8.2)\n",
            "Requirement already satisfied: pytz>=2020.1 in /usr/local/lib/python3.10/dist-packages (from pandas!=1.0.0,!=1.0.1,!=1.0.2,>=0.25.3->sweetviz) (2023.3.post1)\n",
            "Requirement already satisfied: six>=1.5 in /usr/local/lib/python3.10/dist-packages (from python-dateutil>=2.7->matplotlib>=3.1.3->sweetviz) (1.16.0)\n",
            "Installing collected packages: sweetviz\n",
            "Successfully installed sweetviz-2.3.1\n"
          ]
        }
      ]
    },
    {
      "cell_type": "code",
      "source": [
        "import numpy as np\n",
        "import pandas as pd\n",
        "\n",
        "from scipy import stats\n",
        "import pylab\n",
        "from sklearn import linear_model\n",
        "from sklearn.linear_model import LinearRegression\n",
        "import statsmodels.api as sm\n",
        "from statsmodels.stats.multicomp import pairwise_tukeyhsd\n",
        "\n",
        "import yfinance as yf\n",
        "import vectorbt as vbt\n",
        "\n",
        "import seaborn as sns\n",
        "import plotly.graph_objects as go\n",
        "import plotly.express as px\n",
        "from plotly.subplots import make_subplots\n",
        "import sweetviz as sv"
      ],
      "metadata": {
        "id": "1BMUlabDp2IK"
      },
      "execution_count": 5,
      "outputs": []
    },
    {
      "cell_type": "markdown",
      "source": [
        "# **2. Análises exploratórias de dados: EDA**\n",
        "## *Estatística descritiva*"
      ],
      "metadata": {
        "id": "uEaQ3zazGsYY"
      }
    },
    {
      "cell_type": "markdown",
      "source": [
        "O primeiro passo ao se analisar qualquer conjunto de dados, é entender como eles estão distribuídos.\n",
        "\n",
        "Não é à toa que a primeira visualização que fizemos neste módulo foi um **scatter plot** (gráfico de dispersão)"
      ],
      "metadata": {
        "id": "gAEc4aar5BTY"
      }
    },
    {
      "cell_type": "markdown",
      "source": [
        "> \"**Analyses** <s>Men</s> of few words are the best <s>men</s> **analyses**\"\n",
        "\n",
        "> *Shakespeare*"
      ],
      "metadata": {
        "id": "-kiVKXiS_X9L"
      }
    },
    {
      "cell_type": "markdown",
      "source": [
        "## **2.1. Distribuição dos dados:**\n",
        "\n",
        "### *Medidas de posição e dispersão*"
      ],
      "metadata": {
        "id": "rape3Ijg42w-"
      }
    },
    {
      "cell_type": "markdown",
      "source": [
        "Distribuição dos dados é o ponto chave para praticamente tudo o que entendemos por estatística"
      ],
      "metadata": {
        "id": "ZFKQodPf1F5N"
      }
    },
    {
      "cell_type": "markdown",
      "source": [
        "Apesar disso, muitas vezes é simplesmente ignorada nos modelos. Muitas vezes, modelos podem não funcionar por causa de algumas poucas observações que distorcem a distribuição dos dados."
      ],
      "metadata": {
        "id": "Sbcx3XiC5lde"
      }
    },
    {
      "cell_type": "markdown",
      "source": [
        "### **2.1.1. Distribuição normal**"
      ],
      "metadata": {
        "id": "bChJW7tK6XuH"
      }
    },
    {
      "cell_type": "markdown",
      "source": [
        "#### **Entendendo o comportamento**"
      ],
      "metadata": {
        "id": "AmImQN-q4m0K"
      }
    },
    {
      "cell_type": "markdown",
      "source": [
        "Medidas paramétricas (média, desvios, intervalos de confiança, coeficiente de variação) funcionam bem"
      ],
      "metadata": {
        "id": "C7lP4YD8Nb9N"
      }
    },
    {
      "cell_type": "markdown",
      "source": [
        "A distribuição normal (também chamada de Gaussiana), possui esse formato de 'sino'\n",
        "\n",
        "Diversos fenômenos observados no mundo real possuem distribuição normal."
      ],
      "metadata": {
        "id": "OIi-uxMk6DVR"
      }
    },
    {
      "cell_type": "code",
      "source": [
        "# Setando seed\n",
        "np.random.seed(15)\n",
        "# Gerando uma distribuição aproximadamente normal com mil observações\n",
        "normal_dist = np.random.normal(0, 1, 1000)\n",
        "\n",
        "# Plotando o gráfico de distribuição\n",
        "normal_fig01 = sns.displot(normal_dist, kde=True)"
      ],
      "metadata": {
        "colab": {
          "base_uri": "https://localhost:8080/",
          "height": 506
        },
        "id": "EivEfdiOoVvd",
        "outputId": "aa308978-da94-4ab3-da31-a3b6c82a09ce"
      },
      "execution_count": 34,
      "outputs": [
        {
          "output_type": "display_data",
          "data": {
            "text/plain": [
              "<Figure size 500x500 with 1 Axes>"
            ],
            "image/png": "[encoded data removed]"
          },
          "metadata": {}
        }
      ]
    },
    {
      "cell_type": "markdown",
      "source": [
        "Uma das propriedades mais importantes da distribuição normal é que a **média, mediana e moda serão iguais**.\n",
        "\n",
        "É difícil verificar uma distribuição que seja **exatamente** normal, portanto estes valores serão **próximos**."
      ],
      "metadata": {
        "id": "ESxaT7n16Zxb"
      }
    },
    {
      "cell_type": "markdown",
      "source": [
        "#### **Medidas de posição: média, mediana e moda**"
      ],
      "metadata": {
        "id": "f6bE0r_DN2gO"
      }
    },
    {
      "cell_type": "markdown",
      "source": [
        "**Média:**\n",
        "\n",
        "A média é a média aritmética de um conjunto de números.\n",
        "\n",
        "**Mediana:**\n",
        "\n",
        "A mediana é um valor numérico que separa a metade superior de um conjunto da metade inferior.\n",
        "\n",
        "**Moda:**\n",
        "\n",
        "Valor que acontece com mais frequência."
      ],
      "metadata": {
        "id": "IlvU8yCW7FEw"
      }
    },
    {
      "cell_type": "code",
      "source": [
        "print(np.mean(normal_dist))\n",
        "print(np.median(normal_dist))\n",
        "print(stats.mode(normal_dist)[0])"
      ],
      "metadata": {
        "colab": {
          "base_uri": "https://localhost:8080/"
        },
        "id": "6fso1X6x4BZd",
        "outputId": "ad1348e9-bc74-408a-d096-1c9bdc236d61"
      },
      "execution_count": 35,
      "outputs": [
        {
          "output_type": "stream",
          "name": "stdout",
          "text": [
            "-0.03061202169860711\n",
            "-0.0370596172171376\n",
            "-3.466259721157739\n"
          ]
        }
      ]
    },
    {
      "cell_type": "code",
      "source": [
        "# Valores arredondados\n",
        "print(round(np.mean(normal_dist), 3))\n",
        "print(round(np.median(normal_dist), 3))\n",
        "print(round(stats.mode(normal_dist)[0], 3))"
      ],
      "metadata": {
        "id": "BXD6NLLWFIle",
        "colab": {
          "base_uri": "https://localhost:8080/"
        },
        "outputId": "afcd9e31-5dca-442e-c972-9d3095103fd7"
      },
      "execution_count": 36,
      "outputs": [
        {
          "output_type": "stream",
          "name": "stdout",
          "text": [
            "-0.031\n",
            "-0.037\n",
            "-3.466\n"
          ]
        }
      ]
    },
    {
      "cell_type": "markdown",
      "source": [
        "Vamos visualizar na plotly para gerar um gráfico dinâmico"
      ],
      "metadata": {
        "id": "pDNmuB6F7IYK"
      }
    },
    {
      "cell_type": "code",
      "source": [
        "fig01 = px.histogram(normal_dist, color_discrete_sequence=['lightseagreen'])\n",
        "fig01.add_vline(x=np.mean(normal_dist), line_width=3,  line_color=\"red\")\n",
        "fig01.add_vline(x=np.median(normal_dist), line_width=3, line_dash=\"dash\", line_color=\"red\")\n",
        "fig01.update_layout(width=400, height=400, template = 'simple_white',\n",
        "                    paper_bgcolor=\"#f7f8fa\", margin=dict(l=20, r=20, t=20, b=20),\n",
        "                    showlegend=False)"
      ],
      "metadata": {
        "id": "9CnakCMYW9r0",
        "colab": {
          "base_uri": "https://localhost:8080/",
          "height": 417
        },
        "outputId": "30086312-46d2-4400-9028-cc2e7a796533"
      },
      "execution_count": 37,
      "outputs": [
        {
          "output_type": "display_data",
          "data": {
            "text/html": [
              "<html>\n",
              "<head><meta charset=\"utf-8\" /></head>\n",
              "<body>\n",
              "    <div>            <script src=\"https://cdnjs.cloudflare.com/ajax/libs/mathjax/2.7.5/MathJax.js?config=TeX-AMS-MML_SVG\"></script><script type=\"text/javascript\">if (window.MathJax && window.MathJax.Hub && window.MathJax.Hub.Config) {window.MathJax.Hub.Config({SVG: {font: \"STIX-Web\"}});}</script>                <script type=\"text/javascript\">window.PlotlyConfig = {MathJaxConfig: 'local'};</script>\n",
              "        <script charset=\"utf-8\" src=\"https://cdn.plot.ly/plotly-2.24.1.min.js\"></script>                <div id=\"3ab948ef-c6f1-493f-a867-5a96b76cd30e\" class=\"plotly-graph-div\" style=\"height:400px; width:400px;\"></div>            <script type=\"text/javascript\">                                    window.PLOTLYENV=window.PLOTLYENV || {};                                    if (document.getElementById(\"3ab948ef-c6f1-493f-a867-5a96b76cd30e\")) {                    Plotly.newPlot(                        \"3ab948ef-c6f1-493f-a867-5a96b76cd30e\",                        [{\"alignmentgroup\":\"True\",\"bingroup\":\"x\",\"hovertemplate\":\"variable=0\\u003cbr\\u003evalue=%{x}\\u003cbr\\u003ecount=%{y}\\u003cextra\\u003e\\u003c\\u002fextra\\u003e\",\"legendgroup\":\"0\",\"marker\":{\"color\":\"lightseagreen\",\"pattern\":{\"shape\":\"\"}},\"name\":\"0\",\"offsetgroup\":\"0\",\"orientation\":\"v\",\"showlegend\":true,\"x\":[-0.3123284815435444,0.3392847060461844,-0.15590853388271336,-0.5017896732977485,0.2355688917260193,-1.7636052568042102,-1.0958620439447126,-1.0877657414779511,-0.30517005215449283,-0.4737483719561787,-0.20059453852255774,0.35519677301463215,0.6895177232276195,0.41058967536886726,-0.5649784373634442,0.599390690155968,-0.16293630521113156,1.6002145024329846,0.6816272043433873,0.014880101330657022,-0.08777963219834264,-0.9821178403299401,0.12169047854015448,-1.137437286094913,0.3490025779069698,-1.8585131607202074,-1.1671818859873053,1.4248968298312148,1.4965653623652047,1.2899320556873286,-1.8117452671855132,-1.4983072098218022,-1.4501432179372375,-1.6939069613868971,0.22726402759835213,-0.4897347108738532,-0.00052850651369696,-0.49025261684894894,-0.7932094216936223,2.0488987633416875,0.6031854385394374,-0.9982020779951419,1.2150415508738652,-0.6675164913042717,-0.2725057770409589,1.4167744809665235,-0.7826089577587946,-0.25032069703932613,-0.3083144614777594,1.7296880298092152,1.978272368473181,0.219688031802896,1.8948198495577404,-1.3680994368304333,-0.19130538601801306,1.2872575333694267,-0.2468839441640331,0.34255108239508125,0.2227170419627491,0.6815937056449277,0.25144888527443227,-1.4818489385374198,-0.38682177519686206,-0.7336807106107468,0.5859782054959081,-1.7357887596444102,-0.8266952119669686,1.183834229536008,0.3550460442886883,2.442849914623517,-0.03692546849854546,-2.711714053763516,0.9914896332082266,0.19224277019085156,-0.3527926256902223,-1.3395228273550102,-0.1886725862612827,0.5965866467878371,0.34045448213062535,0.08342534402680503,0.6059921223537368,0.16893721499737166,-1.0388912512870523,0.28523808412345364,0.5023913854037069,1.9338749820394232,0.04832487785266145,-1.051768690708377,1.1665823865992835,0.7354671751944397,-0.5631299329921868,-1.2130081942929885,1.5481281604801898,-1.6978753392886379,-0.6317929559142,0.28636660318656254,-1.047972066495584,-0.18645022634485559,0.4975548892786778,-0.404502199023081,-1.2841046621133745,-0.6142571022750649,-0.10786937970608547,1.1336232072913919,-1.0362462855661054,1.5113574321309808,-0.868273786993113,1.3922306022533617,2.1750931541271754,1.2990212131640657,-0.18808136203573053,1.6690232713394475,1.1545742135136654,0.48180239553806187,-0.17803718561037307,-0.3861831342755198,-0.13007428862298556,2.3596235726875547,0.5169997120320264,0.44135466967996567,-0.4757245474145069,0.328382994117335,-0.28280553406171466,-0.7202189449219669,0.08845886747532573,-0.472515661406227,0.12997196483574755,-0.10683378586812389,-0.7043028052520833,0.5171774972414855,0.5808462123326096,-2.8217920502387863,-0.24961741815379623,-0.1770937566351109,-0.25633583222122686,1.2715146731545408,0.08097840277761743,-0.4179407135620213,-0.7669495431230081,0.6315661062109551,-1.6264467515216952,-0.31402527277798475,-0.6154721209923973,-0.3989842680362492,-0.31856395378229985,-1.1808304462313384,-1.1728436964406004,-0.05232058128297776,-0.8461838901833373,1.4144919481662928,0.33585351359625587,-1.1128604915540834,0.513106146839699,-0.22831876366593354,0.23378736569258082,1.5415936709992302,0.9186742955346772,-0.9135691238802837,0.5024481167027629,-0.4280640872589958,1.0230120931610136,-0.03222048706560037,-1.5943018436969827,-3.466259721157739,-0.6778606887302147,-0.8282709398516674,-0.7891418375025939,2.173630771950747,0.11691347992284461,0.8692098773519343,-0.9519724516728479,0.6558386226940256,-0.5540248465611951,-1.5716154356284622,-0.32494001758813273,-0.05431159756147069,-1.0856012897559728,1.4299423755796608,0.05068339580798867,-1.5465185772957382,-2.454758611464284,0.7613473134858767,0.7911555755119092,0.6387517965066232,-0.9226853818199553,-0.9019620483527014,0.5873755330803654,-0.4114021722734989,0.005068738741741176,0.6800738353121557,1.1229027963845037,-0.7674171829063544,-0.15130546279252743,0.2688180874768974,-0.6056591395619028,0.9815759543465016,-1.0372934432086562,0.4737425118477661,-0.4192261729473878,1.290513872507134,0.14519184012638695,-0.6230516121321693,-0.26925571543635013,-1.2451351084204707,0.7273886468235242,-0.138485916328416,-0.20717202844673718,0.47094436039896215,0.5570524459626444,-0.3747706790720355,-1.1278824604425026,1.1711238460530142,0.4522486485629945,0.17411653096762894,0.8809315909882142,-0.24142659711624712,1.6044158245804858,-0.16138488086557498,-0.20478235260240615,0.18403157421329072,-0.3034231719921374,-0.11144276641350134,0.1770082499878706,-0.6514339073365961,0.47890877433036355,0.09568478527548412,1.9811775019684914,-0.26987230710346866,-0.7155405613091255,-0.8468674293480919,0.4518043572697667,0.32849958430510123,-0.8966133150776436,0.8832651781427916,-1.5779306197621923,-0.8944275733762554,-0.43037381481088344,-0.028444810422965833,-0.8474294550726994,1.4073281936936228,1.1642158168233834,0.1706197780183195,0.1544182825187377,0.009561981486964147,0.08559230541563488,0.805420519337034,0.8829149632140708,0.5237905491478525,-0.32115334885660074,-1.4546377454378838,-1.6555565257755234,0.24873851227130658,-1.3962712513944138,-0.5304140818149133,1.1394400242439984,0.3884126211561301,0.10531118843717631,0.16001420312713882,0.6825723929132863,0.6811934212582313,-0.9183343285469857,-1.1463758383599358,-0.8361615987576774,-0.08372788046318065,2.1895597026679567,0.18980707327130428,0.0803553697193098,1.0451044203394646,0.9218148924358133,-0.7194187611460741,-2.1384972719370543,2.593309966721502,-0.40217615437056603,-0.5542885559654007,1.194435148285792,-1.0508325279532733,-0.3703393503153042,-1.5116063272736615,0.9176584332077724,-0.778423601905766,0.04556273463671411,0.7560331160087013,-0.2419584369111178,2.2739876444077387,-0.18520598091883406,-1.6829915699859357,0.7392273062369841,0.7982693221098088,0.8547356592796025,-0.8130246093082174,-0.6266495930167514,-0.19988113383627776,0.8037371741846113,-0.2593041560959633,1.1996431238177672,0.6877526911322706,0.5056578636224509,-0.9428885709292725,-2.052706493769993,-0.004285974834865621,1.2499636258389437,0.7597618343399234,-1.0358321915990496,0.6106148332086865,-0.08487160280241729,0.39538984490393664,-1.3429369605112842,-1.1388019038025274,-0.3535756925709145,1.0564021529511904,-0.4769436554040663,-0.015556659857071158,1.2195989813703516,-0.6112895696512114,-0.5861902856457947,-0.7656301109679337,1.1082907737661718,-0.5857453739598799,-1.46821813227851,-0.7391712981208223,0.16848739104652968,0.09348144560935966,0.50278344047496,1.1464030853442646,0.21230124756206614,-0.5597041681897781,-1.983920868544788,0.1653287095943175,0.7050726987403145,0.4247575623117515,0.5060700943407207,-0.7236044442277968,0.5332132293649526,-1.830369273377651,-1.5284049946605756,-1.8694934842213184,0.7818798790429728,0.6460626549149926,0.6386845642815308,1.6987871756762405,-1.2470661643762837,0.25746472456047265,-0.4107078581909626,-0.7188427838799081,0.7705570679469926,-0.40157546867510174,-1.0964094883358462,0.7279094695489683,-0.49843124007531187,-0.1413039249587078,0.8258533512150755,-0.32774714499901,-0.3790669203367732,0.3731440538408175,1.6116524808979953,-1.6380886956997227,1.6483859656904145,0.9856031009921183,0.4421985448224355,0.5804672869293589,-1.2287339955523375,0.38100399393681406,1.080761826180393,0.11676520591430119,-1.5694855468226259,-0.3198355124877031,-1.4254640797415457,-1.27528005926679,-1.122295898377493,0.794460945602101,1.527880093011715,-0.20037154117187372,1.077728896455567,-0.597182078252773,-0.435254315919332,1.218005315523331,2.1636530626173602,1.2359211395383018,-2.5347824170346875,-0.4516523961239524,0.17661445332640138,0.17260403017218995,-1.0017650604313615,2.6714775761795497,-1.987120119773311,-0.09205526108812716,-1.007324045248893,-0.4186404087941906,-0.07797499599777723,-0.7792207668378294,0.07042643426209706,-1.7649769754485278,-1.098207186037917,0.25469989789532615,-1.418019897452393,0.3084831190823281,-0.6955479758665997,-1.3054121666024667,-0.06600787760564686,-0.8272294203740695,1.688224082093286,0.04077997505563323,1.6092200797607472,-0.9748973633142122,1.065875508705754,-0.05404605523554899,0.6796340386040115,-0.5775685721736238,1.1351213778258047,2.0737460351909065,-0.8091306453955868,-0.924813742264391,2.066526545038916,-1.1957837591223481,-0.23367515231052421,-0.7242258561420667,-1.6526515641478292,-0.5221943331241086,-0.21878332103479176,-2.3356330336419044,1.03402345305999,0.04096666170905856,-2.7307485942385386,-0.05207326769038033,2.1279321355845835,-1.0581678964013697,0.01601904849837184,1.656033359280743,-2.4560948822564797,1.2280741751145,1.8726864017880138,1.5006263933158401,-1.3116943293090946,0.7405210539990531,-0.2296639837506314,1.5177915519969418,1.1318314600362986,-0.44843995564125233,-0.08237437814179795,-0.9645859437879359,-0.42733338953586025,-0.339201717194812,-0.02061073799063721,-0.29774285865814,-0.8459008332269005,0.028674137158497474,-0.5148828967127242,-0.09659879966981554,-0.8652268112491814,1.3499154335660155,1.207101870137616,1.1558293407914095,-1.1215278239157205,0.19161926840188104,-0.37654259586512445,0.006633909850823639,0.4763248539011444,0.8098239607998831,-0.8866574129175003,1.2257745327858904,1.2800614229391434,1.1736658586624593,-0.6821505038798165,0.20289773623019486,0.0006628559074828679,-0.760102277811222,-0.8607423339129041,-0.0726504386444605,-1.0644474803450183,-1.4269631236921323,-0.28710290986397685,-0.09055769079115679,0.8587762598318539,1.604391033814055,-1.2985983427379388,0.2432175433244798,0.6042140275083503,-1.042419835800106,-0.4287500750337079,0.04649421463711076,-0.29842582494644243,0.707613892513097,1.651990192146998,1.9422675671279668,-0.18810212459053724,-0.41595942279956727,0.9754058947694754,-0.24543141693830653,-0.08646763111686696,0.7454621905359247,-0.9011353428846343,1.4941458965219465,-0.3606866125844015,0.331234547288094,-0.6384248206407944,0.2876051789784513,-0.86368422258342,-1.8411442488922871,-0.664106737050921,0.4571940763876766,-1.6000567995115131,0.522876686678642,1.6754054704541317,-0.31316084559834295,0.7747652552101799,-0.31450805972717927,0.9570578412035416,-0.23587818475151073,-2.2255960724970705,-0.5225892580567757,1.2428468768291516,-0.16435430436080642,-0.7835770069754916,0.26820307417666805,-1.4771502471217761,1.6947233408080171,-1.0117873978861116,0.5111367916123729,0.28482972167876663,-0.37172929980519787,-1.3087955773501538,0.05970055570157281,-0.06452107436391248,-0.07882240377299721,-1.919108812762953,-0.00415715621995366,-0.16767947451312915,-0.06321307663931058,-0.06475409308593355,-0.7075313748455344,-1.3796316823126547,0.28231149029901564,-1.1795440350243045,-0.9671899751266335,-0.029279832021646798,1.6679921246632137,0.5290398480488192,1.0365563280755024,-0.3299464027697684,-0.2818080815493469,0.4569339960584845,0.2764956748770303,0.23434786633093213,0.4142535137515313,-0.3360820785736539,-0.037193765935729754,-0.009305966178349445,1.6350367799855563,-0.10088004150722332,0.08171584513912875,0.8002152712202125,0.7906073257572481,0.7760812888737534,-1.7405466483806822,-0.13630285435046716,-0.26162223314692634,-0.19706962316033946,0.2765036447244114,0.8310257623041903,0.3223013453472199,-0.5451265254968356,-0.3065565324432567,-1.6407187206968368,-0.9760627226291483,1.3055792362255345,-0.005761410924324348,-1.5580561329898717,-0.3360501215245417,0.2223060037502635,0.3347013901155278,-1.267759953544927,-0.4938943364718919,1.3607537673621595,2.968652073433703,0.006775903765333114,-1.2534899989414743,-0.7710178870497782,-0.7826794711161029,-0.2682252207473144,0.9665349053827674,1.8043369362912542,-2.0254013587379993,-0.1494717394669626,0.3325243441004418,-0.2692591367598343,-0.2712304157375622,-0.28210526725548507,1.4925574338758125,0.44747418836611935,-0.6425464903207283,1.8719970054899955,0.9290001483407687,-1.308025465005194,-1.1658128720218028,0.09570707555707435,0.4583956717347658,-1.2157484650521344,1.280956628971018,0.46692460213076437,0.9352898844113751,-1.3819408471089483,-1.672332050992714,0.3671872583548352,-0.0820123850871813,0.9075984837600186,-0.8088195985058555,0.3898704073254645,-2.6756793871145508,-1.0196028134018733,0.44967880165434476,-1.6470206371398362,-1.0874558555959335,-0.3389924723146035,0.5683749395565804,1.2377298922314572,-0.9163991817998988,-0.9555741090584315,1.8280786885241447,2.592109390623631,-0.303225119925384,-0.39559523512875033,0.7966922780595935,0.9811524090061045,-1.2157832006434661,1.543143229725334,-1.4957651938898464,-0.3781509515296781,-2.016663541232446,1.184009923572895,0.7707349578466653,0.842786286949148,-0.9066547812074057,0.47685807704546174,-1.347948531707998,0.2398069685206486,1.6542143575930846,0.6750206132759421,-0.7755235256456843,1.5236691251790246,-0.48705186638760617,-0.1190726657706574,1.111180022139034,-1.1343164208351857,0.45898684944217294,0.17765805746663177,-1.0747311486495377,0.07426916782840012,0.2828714342650894,0.4794600438937979,0.286146457695648,1.1864408707389529,0.6105166335340155,-0.22922909541080805,0.0008475923162489818,0.7575260262885031,-0.9857784785374667,0.6368714481413316,-0.3877297636670335,0.026568408302362425,-1.6374291326504353,0.9955525816713274,-1.3578253101687985,0.058270233099783346,-0.20902079219906491,1.1533516623300408,0.08171016091984737,1.0205502583955919,-0.13729953841604345,-0.5201375661889942,0.9659613461918181,-0.8305337634851783,-1.875267488192277,-2.3912879170806374,0.9774764830581073,0.4811614221257861,-0.5093647931321025,0.9353603003380807,1.4706836583111276,0.14593461759241713,-0.6350144183050132,2.9123161271558797,-0.711303792992751,0.44799004638012063,-0.6859401524483313,-2.1769302325134947,-0.2708280082654243,-0.47149296425397963,0.6604779638030402,-0.1037485931528097,-0.5478649397603906,1.2875552402159625,-0.6014338185562423,-1.3781802612074816,-1.0891757151764436,-1.3939025841295538,-1.4081654652465527,0.43114710341567086,-0.5568678196141748,0.35611396043486554,0.17411096046856778,-1.7389420525876667,-0.4780295621473118,-1.00465376498808,-0.7764617946144913,1.3610637348649168,1.6483457729182898,0.830265996242056,-2.2619958385626857,0.9196304889655096,0.806627072750411,1.3553898094372812,-0.5800775248920756,-1.7073783987377555,-1.341026891164619,1.022460951261276,1.3550248107766745,1.0256468268325987,-0.7322137071535944,0.4349920140356354,0.829092091542225,-0.6891136077497904,0.8636437414039305,-0.32569803074156245,-0.09605175635680618,-0.896554776297006,0.9544667029957425,-0.952355078287414,0.4304805710855991,-0.9001495358525202,-1.1706140338447064,-0.4722815785509456,0.8276529226941692,-0.1272985363564439,0.014278419709079187,0.3951446788569614,0.6752469054496506,0.20401537192334956,0.1134539094990627,-0.4821878439079925,1.487125264544792,-1.7864302061937862,-1.5817971671455149,0.07501214499397674,0.057702889194109326,-0.6438470227192742,0.7854812511730257,-1.2451676944653223,-0.9373710330123659,0.9445742391215394,-1.3732358185615408,0.8573924869239868,-0.04331771367055602,0.3040925372128609,-0.15990826150353055,0.387347069828891,0.7949923820710226,-1.4378397006420764,-1.4531876639872758,0.8414719997753567,-0.2840072265619642,-1.144174096494363,1.182968470908339,-0.8454199401793389,0.3300118179785107,-0.5981257926831973,0.2883076888116655,-1.6326810906168185,-1.4811653018270776,0.9942010404922742,-1.3026117242340394,1.3713808401202232,1.8196494115410362,-0.6012427550397151,0.12266312379536684,0.6550763400816786,-0.45767071319591857,0.8217645536793409,-0.8460737940272332,-0.7825579468955896,1.59760873446873,1.0609028735322625,-0.5442110940798804,-0.6782556520336045,0.2585958415722391,0.779517620688997,0.5914923663490074,0.8218244287824363,-0.44867569219442555,0.024227737233288103,-0.014097941237531013,1.7186340279228498,1.0787348461769282,-0.6660234597646434,0.09367607291983589,0.6770332686464379,0.2010599285767059,-0.09908865070667235,0.6481524174929044,-0.05003224350546608,-0.16210089182351375,1.555599303143129,-0.8144035067324199,0.6733072914601663,0.059116214216586846,-0.14586838264073512,-0.35464953377684133,0.4990776921453468,1.105767810275572,-0.42021409394297526,0.09377778854603847,0.5134524400382379,-0.35427968577511765,-0.8695943398785495,-0.12930784169101064,1.6073102280722595,-1.5130274097090612,-0.47689775338751655,-0.8468546590591941,-0.025357006865999978,-1.3391688817284333,0.30132903785462517,-1.9493787161941527,1.3068110571795821,-0.43469731437721865,1.2128486616977414,-0.858770284700646,-0.6009923554563745,0.09504108202955446,0.16647307963134164,-0.5152646173455053,1.094951149837134,-0.4193222586725396,-0.46282560587980265,-0.445703901418374,-0.8107474770546604,1.7051970400823355,0.02913817402624986,0.46779153218219927,-1.0790107842118797,-1.0293119699891156,-0.5437060058021824,-1.077869249633222,0.36749347089824586,0.43472736212267793,0.8424348436896957,-1.4383338144497748,2.028351242782865,0.5229071678846443,0.4086426440792988,0.6671947491173458,0.28827798644043173,0.042474730168905114,-0.1583987543322776,1.021862538523063,-1.3532715248365337,-3.0231000182613834,-1.494169151702187,-1.082683857410316,-0.5152108026859332,0.8231059205969736,-0.4638523443634219,-0.9617586246491189,1.8380074981633696,0.8954469348337236,0.7213842336813714,-0.5580468111580655,0.605547057155889,1.1282482654177888,-1.4828224159017875,-0.9299781325968332,-1.4191020463895077,0.6341612521542717,-0.6773824747688293,-0.6550684076606964,-1.3992805698662647,0.35457999390180406,0.01180150272836275,0.5505108150008176,1.5882006094047845,0.4983885875885357,0.6079216017308394,-0.5474734114212295,-0.729335468246849,-0.4597412617211696,-0.5628281045931713,0.9621745294199178,0.0957384672947969,-0.5794468025336672,-1.6946365432256738,0.5438549182629716,-1.4497595159267003,0.4552194973955042,0.5064530170446016,-1.197877760970294,-1.2261935942787718,-0.2576754971344604,0.8418712847311214,-1.0111651626209157,-0.819446658798222,-0.6578405059174863,0.5376049601492919,1.1984343605571797,1.3296469769007495,1.56201216945537,-1.3635308365723993,-1.0119737694733464,0.6216096118158354,1.1209183697070886,0.2888417338094607,-1.1667921592492896,-1.1556796657936643,-1.85598528299202,0.7844668794192838,-0.035198903914539184,0.300730053633889,0.0976194105612844,-0.3542959796165648,0.09682961049168061,1.6375726761992355,1.6669816814748661,0.14548030855743127,0.3936883400807928,-0.07670718107093144,0.44699398684117914,-0.5967164757866023,1.114841153409891,0.28634156718028025,0.7860142796567787,-1.44984704781921,-0.8456803071647935,0.23424175033250222,2.050340630788304,-1.6215868912915796,-0.5168368463677222,-0.10337350719822412,-1.0016018707343146,0.27789568308458307,-0.37898375509020954,0.2062495460033764,0.10656244942197315,-1.4103227577642505,0.3340512350918446,-1.3205338068577253,1.113198465370749,-0.4372219740709941,0.5764228943287003,1.0696135399270719,1.0916586568031184,-0.9315544764827872,-1.161004214627513,0.11852594623213154,-0.38769513158801194,0.23248244738078325,0.29448632687252785,-0.13529238676154184,1.8044921138541177,-2.4559777192947907,-0.8753161190303795,0.8853770165863141,-0.8966379673710598,0.9117175417900283,-1.166906595695655,0.7344514957033321,1.8853259351780063,-0.2931705189962853,1.209320867005763,-1.3440057947349828,0.1837163130097388,-0.6432525024274551,1.390418871793089,0.22797154760470717,0.12371517541780586,-1.9643166243795627,0.7884329661050806,0.997933461897019,1.0142030858210216,0.5463366755314205,0.5959954744495501,0.15486024107721888,1.9131509015693677,0.009015640928002364,0.6016460010508552,-0.36479747507264476,1.9318629602190573,0.8564218136521826,0.2661739813287279,-1.2505259582819068,-1.82901523913301,0.44593038561448184,-0.08372568831923792,1.573633239589289,-0.9619261939973915,-0.7721453204511689,0.5480594375026211,-0.30502533308517765,-0.15487998577275977,-1.2237009247209893,-1.1243291762549905,1.15052305284861,0.8878220093683267],\"xaxis\":\"x\",\"yaxis\":\"y\",\"type\":\"histogram\"}],                        {\"template\":{\"data\":{\"barpolar\":[{\"marker\":{\"line\":{\"color\":\"white\",\"width\":0.5},\"pattern\":{\"fillmode\":\"overlay\",\"size\":10,\"solidity\":0.2}},\"type\":\"barpolar\"}],\"bar\":[{\"error_x\":{\"color\":\"rgb(36,36,36)\"},\"error_y\":{\"color\":\"rgb(36,36,36)\"},\"marker\":{\"line\":{\"color\":\"white\",\"width\":0.5},\"pattern\":{\"fillmode\":\"overlay\",\"size\":10,\"solidity\":0.2}},\"type\":\"bar\"}],\"carpet\":[{\"aaxis\":{\"endlinecolor\":\"rgb(36,36,36)\",\"gridcolor\":\"white\",\"linecolor\":\"white\",\"minorgridcolor\":\"white\",\"startlinecolor\":\"rgb(36,36,36)\"},\"baxis\":{\"endlinecolor\":\"rgb(36,36,36)\",\"gridcolor\":\"white\",\"linecolor\":\"white\",\"minorgridcolor\":\"white\",\"startlinecolor\":\"rgb(36,36,36)\"},\"type\":\"carpet\"}],\"choropleth\":[{\"colorbar\":{\"outlinewidth\":1,\"tickcolor\":\"rgb(36,36,36)\",\"ticks\":\"outside\"},\"type\":\"choropleth\"}],\"contourcarpet\":[{\"colorbar\":{\"outlinewidth\":1,\"tickcolor\":\"rgb(36,36,36)\",\"ticks\":\"outside\"},\"type\":\"contourcarpet\"}],\"contour\":[{\"colorbar\":{\"outlinewidth\":1,\"tickcolor\":\"rgb(36,36,36)\",\"ticks\":\"outside\"},\"colorscale\":[[0.0,\"#440154\"],[0.1111111111111111,\"#482878\"],[0.2222222222222222,\"#3e4989\"],[0.3333333333333333,\"#31688e\"],[0.4444444444444444,\"#26828e\"],[0.5555555555555556,\"#1f9e89\"],[0.6666666666666666,\"#35b779\"],[0.7777777777777778,\"#6ece58\"],[0.8888888888888888,\"#b5de2b\"],[1.0,\"#fde725\"]],\"type\":\"contour\"}],\"heatmapgl\":[{\"colorbar\":{\"outlinewidth\":1,\"tickcolor\":\"rgb(36,36,36)\",\"ticks\":\"outside\"},\"colorscale\":[[0.0,\"#440154\"],[0.1111111111111111,\"#482878\"],[0.2222222222222222,\"#3e4989\"],[0.3333333333333333,\"#31688e\"],[0.4444444444444444,\"#26828e\"],[0.5555555555555556,\"#1f9e89\"],[0.6666666666666666,\"#35b779\"],[0.7777777777777778,\"#6ece58\"],[0.8888888888888888,\"#b5de2b\"],[1.0,\"#fde725\"]],\"type\":\"heatmapgl\"}],\"heatmap\":[{\"colorbar\":{\"outlinewidth\":1,\"tickcolor\":\"rgb(36,36,36)\",\"ticks\":\"outside\"},\"colorscale\":[[0.0,\"#440154\"],[0.1111111111111111,\"#482878\"],[0.2222222222222222,\"#3e4989\"],[0.3333333333333333,\"#31688e\"],[0.4444444444444444,\"#26828e\"],[0.5555555555555556,\"#1f9e89\"],[0.6666666666666666,\"#35b779\"],[0.7777777777777778,\"#6ece58\"],[0.8888888888888888,\"#b5de2b\"],[1.0,\"#fde725\"]],\"type\":\"heatmap\"}],\"histogram2dcontour\":[{\"colorbar\":{\"outlinewidth\":1,\"tickcolor\":\"rgb(36,36,36)\",\"ticks\":\"outside\"},\"colorscale\":[[0.0,\"#440154\"],[0.1111111111111111,\"#482878\"],[0.2222222222222222,\"#3e4989\"],[0.3333333333333333,\"#31688e\"],[0.4444444444444444,\"#26828e\"],[0.5555555555555556,\"#1f9e89\"],[0.6666666666666666,\"#35b779\"],[0.7777777777777778,\"#6ece58\"],[0.8888888888888888,\"#b5de2b\"],[1.0,\"#fde725\"]],\"type\":\"histogram2dcontour\"}],\"histogram2d\":[{\"colorbar\":{\"outlinewidth\":1,\"tickcolor\":\"rgb(36,36,36)\",\"ticks\":\"outside\"},\"colorscale\":[[0.0,\"#440154\"],[0.1111111111111111,\"#482878\"],[0.2222222222222222,\"#3e4989\"],[0.3333333333333333,\"#31688e\"],[0.4444444444444444,\"#26828e\"],[0.5555555555555556,\"#1f9e89\"],[0.6666666666666666,\"#35b779\"],[0.7777777777777778,\"#6ece58\"],[0.8888888888888888,\"#b5de2b\"],[1.0,\"#fde725\"]],\"type\":\"histogram2d\"}],\"histogram\":[{\"marker\":{\"line\":{\"color\":\"white\",\"width\":0.6}},\"type\":\"histogram\"}],\"mesh3d\":[{\"colorbar\":{\"outlinewidth\":1,\"tickcolor\":\"rgb(36,36,36)\",\"ticks\":\"outside\"},\"type\":\"mesh3d\"}],\"parcoords\":[{\"line\":{\"colorbar\":{\"outlinewidth\":1,\"tickcolor\":\"rgb(36,36,36)\",\"ticks\":\"outside\"}},\"type\":\"parcoords\"}],\"pie\":[{\"automargin\":true,\"type\":\"pie\"}],\"scatter3d\":[{\"line\":{\"colorbar\":{\"outlinewidth\":1,\"tickcolor\":\"rgb(36,36,36)\",\"ticks\":\"outside\"}},\"marker\":{\"colorbar\":{\"outlinewidth\":1,\"tickcolor\":\"rgb(36,36,36)\",\"ticks\":\"outside\"}},\"type\":\"scatter3d\"}],\"scattercarpet\":[{\"marker\":{\"colorbar\":{\"outlinewidth\":1,\"tickcolor\":\"rgb(36,36,36)\",\"ticks\":\"outside\"}},\"type\":\"scattercarpet\"}],\"scattergeo\":[{\"marker\":{\"colorbar\":{\"outlinewidth\":1,\"tickcolor\":\"rgb(36,36,36)\",\"ticks\":\"outside\"}},\"type\":\"scattergeo\"}],\"scattergl\":[{\"marker\":{\"colorbar\":{\"outlinewidth\":1,\"tickcolor\":\"rgb(36,36,36)\",\"ticks\":\"outside\"}},\"type\":\"scattergl\"}],\"scattermapbox\":[{\"marker\":{\"colorbar\":{\"outlinewidth\":1,\"tickcolor\":\"rgb(36,36,36)\",\"ticks\":\"outside\"}},\"type\":\"scattermapbox\"}],\"scatterpolargl\":[{\"marker\":{\"colorbar\":{\"outlinewidth\":1,\"tickcolor\":\"rgb(36,36,36)\",\"ticks\":\"outside\"}},\"type\":\"scatterpolargl\"}],\"scatterpolar\":[{\"marker\":{\"colorbar\":{\"outlinewidth\":1,\"tickcolor\":\"rgb(36,36,36)\",\"ticks\":\"outside\"}},\"type\":\"scatterpolar\"}],\"scatter\":[{\"fillpattern\":{\"fillmode\":\"overlay\",\"size\":10,\"solidity\":0.2},\"type\":\"scatter\"}],\"scatterternary\":[{\"marker\":{\"colorbar\":{\"outlinewidth\":1,\"tickcolor\":\"rgb(36,36,36)\",\"ticks\":\"outside\"}},\"type\":\"scatterternary\"}],\"surface\":[{\"colorbar\":{\"outlinewidth\":1,\"tickcolor\":\"rgb(36,36,36)\",\"ticks\":\"outside\"},\"colorscale\":[[0.0,\"#440154\"],[0.1111111111111111,\"#482878\"],[0.2222222222222222,\"#3e4989\"],[0.3333333333333333,\"#31688e\"],[0.4444444444444444,\"#26828e\"],[0.5555555555555556,\"#1f9e89\"],[0.6666666666666666,\"#35b779\"],[0.7777777777777778,\"#6ece58\"],[0.8888888888888888,\"#b5de2b\"],[1.0,\"#fde725\"]],\"type\":\"surface\"}],\"table\":[{\"cells\":{\"fill\":{\"color\":\"rgb(237,237,237)\"},\"line\":{\"color\":\"white\"}},\"header\":{\"fill\":{\"color\":\"rgb(217,217,217)\"},\"line\":{\"color\":\"white\"}},\"type\":\"table\"}]},\"layout\":{\"annotationdefaults\":{\"arrowhead\":0,\"arrowwidth\":1},\"autotypenumbers\":\"strict\",\"coloraxis\":{\"colorbar\":{\"outlinewidth\":1,\"tickcolor\":\"rgb(36,36,36)\",\"ticks\":\"outside\"}},\"colorscale\":{\"diverging\":[[0.0,\"rgb(103,0,31)\"],[0.1,\"rgb(178,24,43)\"],[0.2,\"rgb(214,96,77)\"],[0.3,\"rgb(244,165,130)\"],[0.4,\"rgb(253,219,199)\"],[0.5,\"rgb(247,247,247)\"],[0.6,\"rgb(209,229,240)\"],[0.7,\"rgb(146,197,222)\"],[0.8,\"rgb(67,147,195)\"],[0.9,\"rgb(33,102,172)\"],[1.0,\"rgb(5,48,97)\"]],\"sequential\":[[0.0,\"#440154\"],[0.1111111111111111,\"#482878\"],[0.2222222222222222,\"#3e4989\"],[0.3333333333333333,\"#31688e\"],[0.4444444444444444,\"#26828e\"],[0.5555555555555556,\"#1f9e89\"],[0.6666666666666666,\"#35b779\"],[0.7777777777777778,\"#6ece58\"],[0.8888888888888888,\"#b5de2b\"],[1.0,\"#fde725\"]],\"sequentialminus\":[[0.0,\"#440154\"],[0.1111111111111111,\"#482878\"],[0.2222222222222222,\"#3e4989\"],[0.3333333333333333,\"#31688e\"],[0.4444444444444444,\"#26828e\"],[0.5555555555555556,\"#1f9e89\"],[0.6666666666666666,\"#35b779\"],[0.7777777777777778,\"#6ece58\"],[0.8888888888888888,\"#b5de2b\"],[1.0,\"#fde725\"]]},\"colorway\":[\"#1F77B4\",\"#FF7F0E\",\"#2CA02C\",\"#D62728\",\"#9467BD\",\"#8C564B\",\"#E377C2\",\"#7F7F7F\",\"#BCBD22\",\"#17BECF\"],\"font\":{\"color\":\"rgb(36,36,36)\"},\"geo\":{\"bgcolor\":\"white\",\"lakecolor\":\"white\",\"landcolor\":\"white\",\"showlakes\":true,\"showland\":true,\"subunitcolor\":\"white\"},\"hoverlabel\":{\"align\":\"left\"},\"hovermode\":\"closest\",\"mapbox\":{\"style\":\"light\"},\"paper_bgcolor\":\"white\",\"plot_bgcolor\":\"white\",\"polar\":{\"angularaxis\":{\"gridcolor\":\"rgb(232,232,232)\",\"linecolor\":\"rgb(36,36,36)\",\"showgrid\":false,\"showline\":true,\"ticks\":\"outside\"},\"bgcolor\":\"white\",\"radialaxis\":{\"gridcolor\":\"rgb(232,232,232)\",\"linecolor\":\"rgb(36,36,36)\",\"showgrid\":false,\"showline\":true,\"ticks\":\"outside\"}},\"scene\":{\"xaxis\":{\"backgroundcolor\":\"white\",\"gridcolor\":\"rgb(232,232,232)\",\"gridwidth\":2,\"linecolor\":\"rgb(36,36,36)\",\"showbackground\":true,\"showgrid\":false,\"showline\":true,\"ticks\":\"outside\",\"zeroline\":false,\"zerolinecolor\":\"rgb(36,36,36)\"},\"yaxis\":{\"backgroundcolor\":\"white\",\"gridcolor\":\"rgb(232,232,232)\",\"gridwidth\":2,\"linecolor\":\"rgb(36,36,36)\",\"showbackground\":true,\"showgrid\":false,\"showline\":true,\"ticks\":\"outside\",\"zeroline\":false,\"zerolinecolor\":\"rgb(36,36,36)\"},\"zaxis\":{\"backgroundcolor\":\"white\",\"gridcolor\":\"rgb(232,232,232)\",\"gridwidth\":2,\"linecolor\":\"rgb(36,36,36)\",\"showbackground\":true,\"showgrid\":false,\"showline\":true,\"ticks\":\"outside\",\"zeroline\":false,\"zerolinecolor\":\"rgb(36,36,36)\"}},\"shapedefaults\":{\"fillcolor\":\"black\",\"line\":{\"width\":0},\"opacity\":0.3},\"ternary\":{\"aaxis\":{\"gridcolor\":\"rgb(232,232,232)\",\"linecolor\":\"rgb(36,36,36)\",\"showgrid\":false,\"showline\":true,\"ticks\":\"outside\"},\"baxis\":{\"gridcolor\":\"rgb(232,232,232)\",\"linecolor\":\"rgb(36,36,36)\",\"showgrid\":false,\"showline\":true,\"ticks\":\"outside\"},\"bgcolor\":\"white\",\"caxis\":{\"gridcolor\":\"rgb(232,232,232)\",\"linecolor\":\"rgb(36,36,36)\",\"showgrid\":false,\"showline\":true,\"ticks\":\"outside\"}},\"title\":{\"x\":0.05},\"xaxis\":{\"automargin\":true,\"gridcolor\":\"rgb(232,232,232)\",\"linecolor\":\"rgb(36,36,36)\",\"showgrid\":false,\"showline\":true,\"ticks\":\"outside\",\"title\":{\"standoff\":15},\"zeroline\":false,\"zerolinecolor\":\"rgb(36,36,36)\"},\"yaxis\":{\"automargin\":true,\"gridcolor\":\"rgb(232,232,232)\",\"linecolor\":\"rgb(36,36,36)\",\"showgrid\":false,\"showline\":true,\"ticks\":\"outside\",\"title\":{\"standoff\":15},\"zeroline\":false,\"zerolinecolor\":\"rgb(36,36,36)\"}}},\"xaxis\":{\"anchor\":\"y\",\"domain\":[0.0,1.0],\"title\":{\"text\":\"value\"}},\"yaxis\":{\"anchor\":\"x\",\"domain\":[0.0,1.0],\"title\":{\"text\":\"count\"}},\"legend\":{\"title\":{\"text\":\"variable\"},\"tracegroupgap\":0},\"margin\":{\"t\":20,\"l\":20,\"r\":20,\"b\":20},\"barmode\":\"relative\",\"shapes\":[{\"line\":{\"color\":\"red\",\"width\":3},\"type\":\"line\",\"x0\":-0.03061202169860711,\"x1\":-0.03061202169860711,\"xref\":\"x\",\"y0\":0,\"y1\":1,\"yref\":\"y domain\"},{\"line\":{\"color\":\"red\",\"dash\":\"dash\",\"width\":3},\"type\":\"line\",\"x0\":-0.0370596172171376,\"x1\":-0.0370596172171376,\"xref\":\"x\",\"y0\":0,\"y1\":1,\"yref\":\"y domain\"}],\"width\":400,\"height\":400,\"paper_bgcolor\":\"#f7f8fa\",\"showlegend\":false},                        {\"responsive\": true}                    ).then(function(){\n",
              "                            \n",
              "var gd = document.getElementById('3ab948ef-c6f1-493f-a867-5a96b76cd30e');\n",
              "var x = new MutationObserver(function (mutations, observer) {{\n",
              "        var display = window.getComputedStyle(gd).display;\n",
              "        if (!display || display === 'none') {{\n",
              "            console.log([gd, 'removed!']);\n",
              "            Plotly.purge(gd);\n",
              "            observer.disconnect();\n",
              "        }}\n",
              "}});\n",
              "\n",
              "// Listen for the removal of the full notebook cells\n",
              "var notebookContainer = gd.closest('#notebook-container');\n",
              "if (notebookContainer) {{\n",
              "    x.observe(notebookContainer, {childList: true});\n",
              "}}\n",
              "\n",
              "// Listen for the clearing of the current output cell\n",
              "var outputEl = gd.closest('.output');\n",
              "if (outputEl) {{\n",
              "    x.observe(outputEl, {childList: true});\n",
              "}}\n",
              "\n",
              "                        })                };                            </script>        </div>\n",
              "</body>\n",
              "</html>"
            ]
          },
          "metadata": {}
        }
      ]
    },
    {
      "cell_type": "markdown",
      "source": [
        "**Como saber se uma distribuição é normal?**\n",
        "\n",
        "Para isso, estudaremos os métodos a seguir."
      ],
      "metadata": {
        "id": "tL6qT7SqOo3d"
      }
    },
    {
      "cell_type": "markdown",
      "source": [
        "#### **Testes de normalidade**"
      ],
      "metadata": {
        "id": "6aHQK6Q_4eAq"
      }
    },
    {
      "cell_type": "code",
      "source": [
        "teste_normalidade = stats.normaltest(normal_dist)\n",
        "print(teste_normalidade)"
      ],
      "metadata": {
        "id": "H4SMr8fS4Qlp",
        "colab": {
          "base_uri": "https://localhost:8080/"
        },
        "outputId": "099dfdc7-ec01-43a3-a314-6d087426b96e"
      },
      "execution_count": null,
      "outputs": [
        {
          "output_type": "stream",
          "name": "stdout",
          "text": [
            "NormaltestResult(statistic=1.2987341250431184, pvalue=0.5223763036889957)\n"
          ]
        }
      ]
    },
    {
      "cell_type": "markdown",
      "source": [
        "À medida que aumenta o uso de **grandes volumes de dados**, **os testes de normalidade vão caindo em desuso**, pois eles são sensíveis justamente à quantidade de dados.\n",
        "\n",
        "Para uma verificação da queda da normalidade com o volume de dados, vejamos este breve teste:"
      ],
      "metadata": {
        "id": "HyUTreZoPhXL"
      }
    },
    {
      "cell_type": "code",
      "execution_count": 49,
      "metadata": {
        "colab": {
          "base_uri": "https://localhost:8080/"
        },
        "id": "mvWbGFhvm75E",
        "outputId": "4b201a53-5edc-4b90-a795-ffb6b9d17d22"
      },
      "outputs": [
        {
          "output_type": "stream",
          "name": "stdout",
          "text": [
            "Lista com 30 dados\n"
          ]
        },
        {
          "output_type": "execute_result",
          "data": {
            "text/plain": [
              "ShapiroResult(statistic=0.9379926919937134, pvalue=0.08032047003507614)"
            ]
          },
          "metadata": {},
          "execution_count": 49
        }
      ],
      "source": [
        "# Vamos testar a normalidade de um conjunto de dados aleatórios\n",
        "# Veja que temos um conjunto de dados normal (p> 0.05)\n",
        "import random\n",
        "\n",
        "random.seed(1)\n",
        "qtd_dados = 30\n",
        "lista_numeros = [random.randrange(1, 50, 1) for i in range(qtd_dados)]\n",
        "shapiro_test = stats.shapiro(lista_numeros)\n",
        "print(\"Lista com\",len(lista_numeros),'dados')\n",
        "shapiro_test"
      ]
    },
    {
      "cell_type": "code",
      "source": [
        "sns.displot(lista_numeros, kde=True, bins=10)"
      ],
      "metadata": {
        "colab": {
          "base_uri": "https://localhost:8080/",
          "height": 523
        },
        "id": "Fa1Ni_xWI-Jj",
        "outputId": "e910025c-5dcb-4cb7-d389-9460b3ff2904"
      },
      "execution_count": 53,
      "outputs": [
        {
          "output_type": "execute_result",
          "data": {
            "text/plain": [
              "<seaborn.axisgrid.FacetGrid at 0x7dc5d0adfac0>"
            ]
          },
          "metadata": {},
          "execution_count": 53
        },
        {
          "output_type": "display_data",
          "data": {
            "text/plain": [
              "<Figure size 500x500 with 1 Axes>"
            ],
            "image/png": "[encoded data removed]"
          },
          "metadata": {}
        }
      ]
    },
    {
      "cell_type": "code",
      "source": [
        "# Observa a média\n",
        "\n",
        "print(np.mean(lista_numeros))"
      ],
      "metadata": {
        "id": "ElbAtxAzn0Z5",
        "outputId": "8dbe3b6b-8aa4-4427-e4d2-8ebf1abf4531",
        "colab": {
          "base_uri": "https://localhost:8080/"
        }
      },
      "execution_count": 54,
      "outputs": [
        {
          "output_type": "stream",
          "name": "stdout",
          "text": [
            "25.066666666666666\n"
          ]
        }
      ]
    },
    {
      "cell_type": "code",
      "source": [
        "# Vamos dobrar o número de dados, mas repetindo a mesma lista, ou seja, normalidade deveria ser a mesma\n",
        "\n",
        "lista_numeros.extend(lista_numeros)\n",
        "shapiro_test = stats.shapiro(lista_numeros)\n",
        "print(\"Lista com\",len(lista_numeros),'dados')\n",
        "shapiro_test"
      ],
      "metadata": {
        "colab": {
          "base_uri": "https://localhost:8080/"
        },
        "id": "pcF6y7CenbhK",
        "outputId": "9015ef66-cf42-4e0e-98fe-cbf77171ce76"
      },
      "execution_count": 55,
      "outputs": [
        {
          "output_type": "stream",
          "name": "stdout",
          "text": [
            "Lista com 60 dados\n"
          ]
        },
        {
          "output_type": "execute_result",
          "data": {
            "text/plain": [
              "ShapiroResult(statistic=0.9343811273574829, pvalue=0.003061881521716714)"
            ]
          },
          "metadata": {},
          "execution_count": 55
        }
      ]
    },
    {
      "cell_type": "code",
      "source": [
        "sns.displot(lista_numeros, kde=True, bins=10)"
      ],
      "metadata": {
        "colab": {
          "base_uri": "https://localhost:8080/",
          "height": 523
        },
        "id": "w7iSssAqJG_A",
        "outputId": "6be1c5c2-2f69-47f3-b9ff-b3cf7e312707"
      },
      "execution_count": 57,
      "outputs": [
        {
          "output_type": "execute_result",
          "data": {
            "text/plain": [
              "<seaborn.axisgrid.FacetGrid at 0x7dc5d1bd1000>"
            ]
          },
          "metadata": {},
          "execution_count": 57
        },
        {
          "output_type": "display_data",
          "data": {
            "text/plain": [
              "<Figure size 500x500 with 1 Axes>"
            ],
            "image/png": "[encoded data removed]"
          },
          "metadata": {}
        }
      ]
    },
    {
      "cell_type": "code",
      "source": [
        "# Media se mantém já que só repetimos os numeros\n",
        "\n",
        "print(np.mean(lista_numeros))"
      ],
      "metadata": {
        "id": "8rmAD4YhnkOa",
        "colab": {
          "base_uri": "https://localhost:8080/"
        },
        "outputId": "2fe389da-65fc-4bdd-d16f-f16c02b599fa"
      },
      "execution_count": 58,
      "outputs": [
        {
          "output_type": "stream",
          "name": "stdout",
          "text": [
            "25.066666666666666\n"
          ]
        }
      ]
    },
    {
      "cell_type": "markdown",
      "source": [
        "A **normalidade** no teste de normalidade caiu quando aumentamos o volume dos dados (mesmo os dados sendo iguais)"
      ],
      "metadata": {
        "id": "p6xkdtuBoKUJ"
      }
    },
    {
      "cell_type": "markdown",
      "source": [
        "####**Medidas de posição: quantis**"
      ],
      "metadata": {
        "id": "iRlvY7rAifkb"
      }
    },
    {
      "cell_type": "markdown",
      "source": [
        "Quantis são pontos de corte que dividem um intervalo de distribuição de probabilidade em intervalos contínuos com probabilidades iguais, ou as observações de uma amostra do mesmo jeito."
      ],
      "metadata": {
        "id": "oXwghm1gRajd"
      }
    },
    {
      "cell_type": "markdown",
      "source": [
        "<img src=\"https://cdn.scribbr.com/wp-content/uploads/2022/05/Quartiles-probability-distribution.webp\" width=\"500\" align=\"left\"/>"
      ],
      "metadata": {
        "id": "1bfYp2i1SEly"
      }
    },
    {
      "cell_type": "markdown",
      "source": [
        "#### **Quantile-Quantile Plot (Q-Q plot)**"
      ],
      "metadata": {
        "id": "88C-MdRc4bta"
      }
    },
    {
      "cell_type": "markdown",
      "source": [
        "A função `stats.probplot` do módulo scipy é usada para criar um gráfico de probabilidade (Q-Q plot) para a**valiar se uma amostra de dados segue ou não uma distribuição teórica específica**."
      ],
      "metadata": {
        "id": "zLRiSBEnJtjV"
      }
    },
    {
      "cell_type": "code",
      "source": [
        "stats.probplot(normal_dist, dist=\"norm\", plot=pylab)\n",
        "pylab.show()"
      ],
      "metadata": {
        "id": "18j1epFl4xHi",
        "colab": {
          "base_uri": "https://localhost:8080/",
          "height": 472
        },
        "outputId": "40766267-69ce-405e-ab5a-0e02f3682983"
      },
      "execution_count": 59,
      "outputs": [
        {
          "output_type": "display_data",
          "data": {
            "text/plain": [
              "<Figure size 640x480 with 1 Axes>"
            ],
            "image/png": "[encoded data removed]"
          },
          "metadata": {}
        }
      ]
    },
    {
      "cell_type": "markdown",
      "source": [
        "#### **Boxplots**"
      ],
      "metadata": {
        "id": "CD1RP4-XR2ZD"
      }
    },
    {
      "cell_type": "code",
      "source": [
        "fig02 = go.Figure()\n",
        "fig02.add_trace(go.Box(y=normal_dist, boxpoints='all', boxmean='sd', name='<b>Normal distribution', marker_color = 'blue'))\n",
        "fig02.update_layout(width=400, height=400, template = 'simple_white',\n",
        "                    paper_bgcolor=\"#f7f8fa\", margin=dict(l=20, r=20, t=20, b=20),\n",
        "                    showlegend=False)"
      ],
      "metadata": {
        "id": "vdFMHn1dORFN",
        "colab": {
          "base_uri": "https://localhost:8080/",
          "height": 417
        },
        "outputId": "927cef05-c9d7-45d6-f0a5-8e96773ad221"
      },
      "execution_count": 60,
      "outputs": [
        {
          "output_type": "display_data",
          "data": {
            "text/html": [
              "<html>\n",
              "<head><meta charset=\"utf-8\" /></head>\n",
              "<body>\n",
              "    <div>            <script src=\"https://cdnjs.cloudflare.com/ajax/libs/mathjax/2.7.5/MathJax.js?config=TeX-AMS-MML_SVG\"></script><script type=\"text/javascript\">if (window.MathJax && window.MathJax.Hub && window.MathJax.Hub.Config) {window.MathJax.Hub.Config({SVG: {font: \"STIX-Web\"}});}</script>                <script type=\"text/javascript\">window.PlotlyConfig = {MathJaxConfig: 'local'};</script>\n",
              "        <script charset=\"utf-8\" src=\"https://cdn.plot.ly/plotly-2.24.1.min.js\"></script>                <div id=\"811bf186-680b-4230-9def-bd23ce40c49b\" class=\"plotly-graph-div\" style=\"height:400px; width:400px;\"></div>            <script type=\"text/javascript\">                                    window.PLOTLYENV=window.PLOTLYENV || {};                                    if (document.getElementById(\"811bf186-680b-4230-9def-bd23ce40c49b\")) {                    Plotly.newPlot(                        \"811bf186-680b-4230-9def-bd23ce40c49b\",                        [{\"boxmean\":\"sd\",\"boxpoints\":\"all\",\"marker\":{\"color\":\"blue\"},\"name\":\"\\u003cb\\u003eNormal distribution\",\"y\":[-0.3123284815435444,0.3392847060461844,-0.15590853388271336,-0.5017896732977485,0.2355688917260193,-1.7636052568042102,-1.0958620439447126,-1.0877657414779511,-0.30517005215449283,-0.4737483719561787,-0.20059453852255774,0.35519677301463215,0.6895177232276195,0.41058967536886726,-0.5649784373634442,0.599390690155968,-0.16293630521113156,1.6002145024329846,0.6816272043433873,0.014880101330657022,-0.08777963219834264,-0.9821178403299401,0.12169047854015448,-1.137437286094913,0.3490025779069698,-1.8585131607202074,-1.1671818859873053,1.4248968298312148,1.4965653623652047,1.2899320556873286,-1.8117452671855132,-1.4983072098218022,-1.4501432179372375,-1.6939069613868971,0.22726402759835213,-0.4897347108738532,-0.00052850651369696,-0.49025261684894894,-0.7932094216936223,2.0488987633416875,0.6031854385394374,-0.9982020779951419,1.2150415508738652,-0.6675164913042717,-0.2725057770409589,1.4167744809665235,-0.7826089577587946,-0.25032069703932613,-0.3083144614777594,1.7296880298092152,1.978272368473181,0.219688031802896,1.8948198495577404,-1.3680994368304333,-0.19130538601801306,1.2872575333694267,-0.2468839441640331,0.34255108239508125,0.2227170419627491,0.6815937056449277,0.25144888527443227,-1.4818489385374198,-0.38682177519686206,-0.7336807106107468,0.5859782054959081,-1.7357887596444102,-0.8266952119669686,1.183834229536008,0.3550460442886883,2.442849914623517,-0.03692546849854546,-2.711714053763516,0.9914896332082266,0.19224277019085156,-0.3527926256902223,-1.3395228273550102,-0.1886725862612827,0.5965866467878371,0.34045448213062535,0.08342534402680503,0.6059921223537368,0.16893721499737166,-1.0388912512870523,0.28523808412345364,0.5023913854037069,1.9338749820394232,0.04832487785266145,-1.051768690708377,1.1665823865992835,0.7354671751944397,-0.5631299329921868,-1.2130081942929885,1.5481281604801898,-1.6978753392886379,-0.6317929559142,0.28636660318656254,-1.047972066495584,-0.18645022634485559,0.4975548892786778,-0.404502199023081,-1.2841046621133745,-0.6142571022750649,-0.10786937970608547,1.1336232072913919,-1.0362462855661054,1.5113574321309808,-0.868273786993113,1.3922306022533617,2.1750931541271754,1.2990212131640657,-0.18808136203573053,1.6690232713394475,1.1545742135136654,0.48180239553806187,-0.17803718561037307,-0.3861831342755198,-0.13007428862298556,2.3596235726875547,0.5169997120320264,0.44135466967996567,-0.4757245474145069,0.328382994117335,-0.28280553406171466,-0.7202189449219669,0.08845886747532573,-0.472515661406227,0.12997196483574755,-0.10683378586812389,-0.7043028052520833,0.5171774972414855,0.5808462123326096,-2.8217920502387863,-0.24961741815379623,-0.1770937566351109,-0.25633583222122686,1.2715146731545408,0.08097840277761743,-0.4179407135620213,-0.7669495431230081,0.6315661062109551,-1.6264467515216952,-0.31402527277798475,-0.6154721209923973,-0.3989842680362492,-0.31856395378229985,-1.1808304462313384,-1.1728436964406004,-0.05232058128297776,-0.8461838901833373,1.4144919481662928,0.33585351359625587,-1.1128604915540834,0.513106146839699,-0.22831876366593354,0.23378736569258082,1.5415936709992302,0.9186742955346772,-0.9135691238802837,0.5024481167027629,-0.4280640872589958,1.0230120931610136,-0.03222048706560037,-1.5943018436969827,-3.466259721157739,-0.6778606887302147,-0.8282709398516674,-0.7891418375025939,2.173630771950747,0.11691347992284461,0.8692098773519343,-0.9519724516728479,0.6558386226940256,-0.5540248465611951,-1.5716154356284622,-0.32494001758813273,-0.05431159756147069,-1.0856012897559728,1.4299423755796608,0.05068339580798867,-1.5465185772957382,-2.454758611464284,0.7613473134858767,0.7911555755119092,0.6387517965066232,-0.9226853818199553,-0.9019620483527014,0.5873755330803654,-0.4114021722734989,0.005068738741741176,0.6800738353121557,1.1229027963845037,-0.7674171829063544,-0.15130546279252743,0.2688180874768974,-0.6056591395619028,0.9815759543465016,-1.0372934432086562,0.4737425118477661,-0.4192261729473878,1.290513872507134,0.14519184012638695,-0.6230516121321693,-0.26925571543635013,-1.2451351084204707,0.7273886468235242,-0.138485916328416,-0.20717202844673718,0.47094436039896215,0.5570524459626444,-0.3747706790720355,-1.1278824604425026,1.1711238460530142,0.4522486485629945,0.17411653096762894,0.8809315909882142,-0.24142659711624712,1.6044158245804858,-0.16138488086557498,-0.20478235260240615,0.18403157421329072,-0.3034231719921374,-0.11144276641350134,0.1770082499878706,-0.6514339073365961,0.47890877433036355,0.09568478527548412,1.9811775019684914,-0.26987230710346866,-0.7155405613091255,-0.8468674293480919,0.4518043572697667,0.32849958430510123,-0.8966133150776436,0.8832651781427916,-1.5779306197621923,-0.8944275733762554,-0.43037381481088344,-0.028444810422965833,-0.8474294550726994,1.4073281936936228,1.1642158168233834,0.1706197780183195,0.1544182825187377,0.009561981486964147,0.08559230541563488,0.805420519337034,0.8829149632140708,0.5237905491478525,-0.32115334885660074,-1.4546377454378838,-1.6555565257755234,0.24873851227130658,-1.3962712513944138,-0.5304140818149133,1.1394400242439984,0.3884126211561301,0.10531118843717631,0.16001420312713882,0.6825723929132863,0.6811934212582313,-0.9183343285469857,-1.1463758383599358,-0.8361615987576774,-0.08372788046318065,2.1895597026679567,0.18980707327130428,0.0803553697193098,1.0451044203394646,0.9218148924358133,-0.7194187611460741,-2.1384972719370543,2.593309966721502,-0.40217615437056603,-0.5542885559654007,1.194435148285792,-1.0508325279532733,-0.3703393503153042,-1.5116063272736615,0.9176584332077724,-0.778423601905766,0.04556273463671411,0.7560331160087013,-0.2419584369111178,2.2739876444077387,-0.18520598091883406,-1.6829915699859357,0.7392273062369841,0.7982693221098088,0.8547356592796025,-0.8130246093082174,-0.6266495930167514,-0.19988113383627776,0.8037371741846113,-0.2593041560959633,1.1996431238177672,0.6877526911322706,0.5056578636224509,-0.9428885709292725,-2.052706493769993,-0.004285974834865621,1.2499636258389437,0.7597618343399234,-1.0358321915990496,0.6106148332086865,-0.08487160280241729,0.39538984490393664,-1.3429369605112842,-1.1388019038025274,-0.3535756925709145,1.0564021529511904,-0.4769436554040663,-0.015556659857071158,1.2195989813703516,-0.6112895696512114,-0.5861902856457947,-0.7656301109679337,1.1082907737661718,-0.5857453739598799,-1.46821813227851,-0.7391712981208223,0.16848739104652968,0.09348144560935966,0.50278344047496,1.1464030853442646,0.21230124756206614,-0.5597041681897781,-1.983920868544788,0.1653287095943175,0.7050726987403145,0.4247575623117515,0.5060700943407207,-0.7236044442277968,0.5332132293649526,-1.830369273377651,-1.5284049946605756,-1.8694934842213184,0.7818798790429728,0.6460626549149926,0.6386845642815308,1.6987871756762405,-1.2470661643762837,0.25746472456047265,-0.4107078581909626,-0.7188427838799081,0.7705570679469926,-0.40157546867510174,-1.0964094883358462,0.7279094695489683,-0.49843124007531187,-0.1413039249587078,0.8258533512150755,-0.32774714499901,-0.3790669203367732,0.3731440538408175,1.6116524808979953,-1.6380886956997227,1.6483859656904145,0.9856031009921183,0.4421985448224355,0.5804672869293589,-1.2287339955523375,0.38100399393681406,1.080761826180393,0.11676520591430119,-1.5694855468226259,-0.3198355124877031,-1.4254640797415457,-1.27528005926679,-1.122295898377493,0.794460945602101,1.527880093011715,-0.20037154117187372,1.077728896455567,-0.597182078252773,-0.435254315919332,1.218005315523331,2.1636530626173602,1.2359211395383018,-2.5347824170346875,-0.4516523961239524,0.17661445332640138,0.17260403017218995,-1.0017650604313615,2.6714775761795497,-1.987120119773311,-0.09205526108812716,-1.007324045248893,-0.4186404087941906,-0.07797499599777723,-0.7792207668378294,0.07042643426209706,-1.7649769754485278,-1.098207186037917,0.25469989789532615,-1.418019897452393,0.3084831190823281,-0.6955479758665997,-1.3054121666024667,-0.06600787760564686,-0.8272294203740695,1.688224082093286,0.04077997505563323,1.6092200797607472,-0.9748973633142122,1.065875508705754,-0.05404605523554899,0.6796340386040115,-0.5775685721736238,1.1351213778258047,2.0737460351909065,-0.8091306453955868,-0.924813742264391,2.066526545038916,-1.1957837591223481,-0.23367515231052421,-0.7242258561420667,-1.6526515641478292,-0.5221943331241086,-0.21878332103479176,-2.3356330336419044,1.03402345305999,0.04096666170905856,-2.7307485942385386,-0.05207326769038033,2.1279321355845835,-1.0581678964013697,0.01601904849837184,1.656033359280743,-2.4560948822564797,1.2280741751145,1.8726864017880138,1.5006263933158401,-1.3116943293090946,0.7405210539990531,-0.2296639837506314,1.5177915519969418,1.1318314600362986,-0.44843995564125233,-0.08237437814179795,-0.9645859437879359,-0.42733338953586025,-0.339201717194812,-0.02061073799063721,-0.29774285865814,-0.8459008332269005,0.028674137158497474,-0.5148828967127242,-0.09659879966981554,-0.8652268112491814,1.3499154335660155,1.207101870137616,1.1558293407914095,-1.1215278239157205,0.19161926840188104,-0.37654259586512445,0.006633909850823639,0.4763248539011444,0.8098239607998831,-0.8866574129175003,1.2257745327858904,1.2800614229391434,1.1736658586624593,-0.6821505038798165,0.20289773623019486,0.0006628559074828679,-0.760102277811222,-0.8607423339129041,-0.0726504386444605,-1.0644474803450183,-1.4269631236921323,-0.28710290986397685,-0.09055769079115679,0.8587762598318539,1.604391033814055,-1.2985983427379388,0.2432175433244798,0.6042140275083503,-1.042419835800106,-0.4287500750337079,0.04649421463711076,-0.29842582494644243,0.707613892513097,1.651990192146998,1.9422675671279668,-0.18810212459053724,-0.41595942279956727,0.9754058947694754,-0.24543141693830653,-0.08646763111686696,0.7454621905359247,-0.9011353428846343,1.4941458965219465,-0.3606866125844015,0.331234547288094,-0.6384248206407944,0.2876051789784513,-0.86368422258342,-1.8411442488922871,-0.664106737050921,0.4571940763876766,-1.6000567995115131,0.522876686678642,1.6754054704541317,-0.31316084559834295,0.7747652552101799,-0.31450805972717927,0.9570578412035416,-0.23587818475151073,-2.2255960724970705,-0.5225892580567757,1.2428468768291516,-0.16435430436080642,-0.7835770069754916,0.26820307417666805,-1.4771502471217761,1.6947233408080171,-1.0117873978861116,0.5111367916123729,0.28482972167876663,-0.37172929980519787,-1.3087955773501538,0.05970055570157281,-0.06452107436391248,-0.07882240377299721,-1.919108812762953,-0.00415715621995366,-0.16767947451312915,-0.06321307663931058,-0.06475409308593355,-0.7075313748455344,-1.3796316823126547,0.28231149029901564,-1.1795440350243045,-0.9671899751266335,-0.029279832021646798,1.6679921246632137,0.5290398480488192,1.0365563280755024,-0.3299464027697684,-0.2818080815493469,0.4569339960584845,0.2764956748770303,0.23434786633093213,0.4142535137515313,-0.3360820785736539,-0.037193765935729754,-0.009305966178349445,1.6350367799855563,-0.10088004150722332,0.08171584513912875,0.8002152712202125,0.7906073257572481,0.7760812888737534,-1.7405466483806822,-0.13630285435046716,-0.26162223314692634,-0.19706962316033946,0.2765036447244114,0.8310257623041903,0.3223013453472199,-0.5451265254968356,-0.3065565324432567,-1.6407187206968368,-0.9760627226291483,1.3055792362255345,-0.005761410924324348,-1.5580561329898717,-0.3360501215245417,0.2223060037502635,0.3347013901155278,-1.267759953544927,-0.4938943364718919,1.3607537673621595,2.968652073433703,0.006775903765333114,-1.2534899989414743,-0.7710178870497782,-0.7826794711161029,-0.2682252207473144,0.9665349053827674,1.8043369362912542,-2.0254013587379993,-0.1494717394669626,0.3325243441004418,-0.2692591367598343,-0.2712304157375622,-0.28210526725548507,1.4925574338758125,0.44747418836611935,-0.6425464903207283,1.8719970054899955,0.9290001483407687,-1.308025465005194,-1.1658128720218028,0.09570707555707435,0.4583956717347658,-1.2157484650521344,1.280956628971018,0.46692460213076437,0.9352898844113751,-1.3819408471089483,-1.672332050992714,0.3671872583548352,-0.0820123850871813,0.9075984837600186,-0.8088195985058555,0.3898704073254645,-2.6756793871145508,-1.0196028134018733,0.44967880165434476,-1.6470206371398362,-1.0874558555959335,-0.3389924723146035,0.5683749395565804,1.2377298922314572,-0.9163991817998988,-0.9555741090584315,1.8280786885241447,2.592109390623631,-0.303225119925384,-0.39559523512875033,0.7966922780595935,0.9811524090061045,-1.2157832006434661,1.543143229725334,-1.4957651938898464,-0.3781509515296781,-2.016663541232446,1.184009923572895,0.7707349578466653,0.842786286949148,-0.9066547812074057,0.47685807704546174,-1.347948531707998,0.2398069685206486,1.6542143575930846,0.6750206132759421,-0.7755235256456843,1.5236691251790246,-0.48705186638760617,-0.1190726657706574,1.111180022139034,-1.1343164208351857,0.45898684944217294,0.17765805746663177,-1.0747311486495377,0.07426916782840012,0.2828714342650894,0.4794600438937979,0.286146457695648,1.1864408707389529,0.6105166335340155,-0.22922909541080805,0.0008475923162489818,0.7575260262885031,-0.9857784785374667,0.6368714481413316,-0.3877297636670335,0.026568408302362425,-1.6374291326504353,0.9955525816713274,-1.3578253101687985,0.058270233099783346,-0.20902079219906491,1.1533516623300408,0.08171016091984737,1.0205502583955919,-0.13729953841604345,-0.5201375661889942,0.9659613461918181,-0.8305337634851783,-1.875267488192277,-2.3912879170806374,0.9774764830581073,0.4811614221257861,-0.5093647931321025,0.9353603003380807,1.4706836583111276,0.14593461759241713,-0.6350144183050132,2.9123161271558797,-0.711303792992751,0.44799004638012063,-0.6859401524483313,-2.1769302325134947,-0.2708280082654243,-0.47149296425397963,0.6604779638030402,-0.1037485931528097,-0.5478649397603906,1.2875552402159625,-0.6014338185562423,-1.3781802612074816,-1.0891757151764436,-1.3939025841295538,-1.4081654652465527,0.43114710341567086,-0.5568678196141748,0.35611396043486554,0.17411096046856778,-1.7389420525876667,-0.4780295621473118,-1.00465376498808,-0.7764617946144913,1.3610637348649168,1.6483457729182898,0.830265996242056,-2.2619958385626857,0.9196304889655096,0.806627072750411,1.3553898094372812,-0.5800775248920756,-1.7073783987377555,-1.341026891164619,1.022460951261276,1.3550248107766745,1.0256468268325987,-0.7322137071535944,0.4349920140356354,0.829092091542225,-0.6891136077497904,0.8636437414039305,-0.32569803074156245,-0.09605175635680618,-0.896554776297006,0.9544667029957425,-0.952355078287414,0.4304805710855991,-0.9001495358525202,-1.1706140338447064,-0.4722815785509456,0.8276529226941692,-0.1272985363564439,0.014278419709079187,0.3951446788569614,0.6752469054496506,0.20401537192334956,0.1134539094990627,-0.4821878439079925,1.487125264544792,-1.7864302061937862,-1.5817971671455149,0.07501214499397674,0.057702889194109326,-0.6438470227192742,0.7854812511730257,-1.2451676944653223,-0.9373710330123659,0.9445742391215394,-1.3732358185615408,0.8573924869239868,-0.04331771367055602,0.3040925372128609,-0.15990826150353055,0.387347069828891,0.7949923820710226,-1.4378397006420764,-1.4531876639872758,0.8414719997753567,-0.2840072265619642,-1.144174096494363,1.182968470908339,-0.8454199401793389,0.3300118179785107,-0.5981257926831973,0.2883076888116655,-1.6326810906168185,-1.4811653018270776,0.9942010404922742,-1.3026117242340394,1.3713808401202232,1.8196494115410362,-0.6012427550397151,0.12266312379536684,0.6550763400816786,-0.45767071319591857,0.8217645536793409,-0.8460737940272332,-0.7825579468955896,1.59760873446873,1.0609028735322625,-0.5442110940798804,-0.6782556520336045,0.2585958415722391,0.779517620688997,0.5914923663490074,0.8218244287824363,-0.44867569219442555,0.024227737233288103,-0.014097941237531013,1.7186340279228498,1.0787348461769282,-0.6660234597646434,0.09367607291983589,0.6770332686464379,0.2010599285767059,-0.09908865070667235,0.6481524174929044,-0.05003224350546608,-0.16210089182351375,1.555599303143129,-0.8144035067324199,0.6733072914601663,0.059116214216586846,-0.14586838264073512,-0.35464953377684133,0.4990776921453468,1.105767810275572,-0.42021409394297526,0.09377778854603847,0.5134524400382379,-0.35427968577511765,-0.8695943398785495,-0.12930784169101064,1.6073102280722595,-1.5130274097090612,-0.47689775338751655,-0.8468546590591941,-0.025357006865999978,-1.3391688817284333,0.30132903785462517,-1.9493787161941527,1.3068110571795821,-0.43469731437721865,1.2128486616977414,-0.858770284700646,-0.6009923554563745,0.09504108202955446,0.16647307963134164,-0.5152646173455053,1.094951149837134,-0.4193222586725396,-0.46282560587980265,-0.445703901418374,-0.8107474770546604,1.7051970400823355,0.02913817402624986,0.46779153218219927,-1.0790107842118797,-1.0293119699891156,-0.5437060058021824,-1.077869249633222,0.36749347089824586,0.43472736212267793,0.8424348436896957,-1.4383338144497748,2.028351242782865,0.5229071678846443,0.4086426440792988,0.6671947491173458,0.28827798644043173,0.042474730168905114,-0.1583987543322776,1.021862538523063,-1.3532715248365337,-3.0231000182613834,-1.494169151702187,-1.082683857410316,-0.5152108026859332,0.8231059205969736,-0.4638523443634219,-0.9617586246491189,1.8380074981633696,0.8954469348337236,0.7213842336813714,-0.5580468111580655,0.605547057155889,1.1282482654177888,-1.4828224159017875,-0.9299781325968332,-1.4191020463895077,0.6341612521542717,-0.6773824747688293,-0.6550684076606964,-1.3992805698662647,0.35457999390180406,0.01180150272836275,0.5505108150008176,1.5882006094047845,0.4983885875885357,0.6079216017308394,-0.5474734114212295,-0.729335468246849,-0.4597412617211696,-0.5628281045931713,0.9621745294199178,0.0957384672947969,-0.5794468025336672,-1.6946365432256738,0.5438549182629716,-1.4497595159267003,0.4552194973955042,0.5064530170446016,-1.197877760970294,-1.2261935942787718,-0.2576754971344604,0.8418712847311214,-1.0111651626209157,-0.819446658798222,-0.6578405059174863,0.5376049601492919,1.1984343605571797,1.3296469769007495,1.56201216945537,-1.3635308365723993,-1.0119737694733464,0.6216096118158354,1.1209183697070886,0.2888417338094607,-1.1667921592492896,-1.1556796657936643,-1.85598528299202,0.7844668794192838,-0.035198903914539184,0.300730053633889,0.0976194105612844,-0.3542959796165648,0.09682961049168061,1.6375726761992355,1.6669816814748661,0.14548030855743127,0.3936883400807928,-0.07670718107093144,0.44699398684117914,-0.5967164757866023,1.114841153409891,0.28634156718028025,0.7860142796567787,-1.44984704781921,-0.8456803071647935,0.23424175033250222,2.050340630788304,-1.6215868912915796,-0.5168368463677222,-0.10337350719822412,-1.0016018707343146,0.27789568308458307,-0.37898375509020954,0.2062495460033764,0.10656244942197315,-1.4103227577642505,0.3340512350918446,-1.3205338068577253,1.113198465370749,-0.4372219740709941,0.5764228943287003,1.0696135399270719,1.0916586568031184,-0.9315544764827872,-1.161004214627513,0.11852594623213154,-0.38769513158801194,0.23248244738078325,0.29448632687252785,-0.13529238676154184,1.8044921138541177,-2.4559777192947907,-0.8753161190303795,0.8853770165863141,-0.8966379673710598,0.9117175417900283,-1.166906595695655,0.7344514957033321,1.8853259351780063,-0.2931705189962853,1.209320867005763,-1.3440057947349828,0.1837163130097388,-0.6432525024274551,1.390418871793089,0.22797154760470717,0.12371517541780586,-1.9643166243795627,0.7884329661050806,0.997933461897019,1.0142030858210216,0.5463366755314205,0.5959954744495501,0.15486024107721888,1.9131509015693677,0.009015640928002364,0.6016460010508552,-0.36479747507264476,1.9318629602190573,0.8564218136521826,0.2661739813287279,-1.2505259582819068,-1.82901523913301,0.44593038561448184,-0.08372568831923792,1.573633239589289,-0.9619261939973915,-0.7721453204511689,0.5480594375026211,-0.30502533308517765,-0.15487998577275977,-1.2237009247209893,-1.1243291762549905,1.15052305284861,0.8878220093683267],\"type\":\"box\"}],                        {\"template\":{\"data\":{\"barpolar\":[{\"marker\":{\"line\":{\"color\":\"white\",\"width\":0.5},\"pattern\":{\"fillmode\":\"overlay\",\"size\":10,\"solidity\":0.2}},\"type\":\"barpolar\"}],\"bar\":[{\"error_x\":{\"color\":\"rgb(36,36,36)\"},\"error_y\":{\"color\":\"rgb(36,36,36)\"},\"marker\":{\"line\":{\"color\":\"white\",\"width\":0.5},\"pattern\":{\"fillmode\":\"overlay\",\"size\":10,\"solidity\":0.2}},\"type\":\"bar\"}],\"carpet\":[{\"aaxis\":{\"endlinecolor\":\"rgb(36,36,36)\",\"gridcolor\":\"white\",\"linecolor\":\"white\",\"minorgridcolor\":\"white\",\"startlinecolor\":\"rgb(36,36,36)\"},\"baxis\":{\"endlinecolor\":\"rgb(36,36,36)\",\"gridcolor\":\"white\",\"linecolor\":\"white\",\"minorgridcolor\":\"white\",\"startlinecolor\":\"rgb(36,36,36)\"},\"type\":\"carpet\"}],\"choropleth\":[{\"colorbar\":{\"outlinewidth\":1,\"tickcolor\":\"rgb(36,36,36)\",\"ticks\":\"outside\"},\"type\":\"choropleth\"}],\"contourcarpet\":[{\"colorbar\":{\"outlinewidth\":1,\"tickcolor\":\"rgb(36,36,36)\",\"ticks\":\"outside\"},\"type\":\"contourcarpet\"}],\"contour\":[{\"colorbar\":{\"outlinewidth\":1,\"tickcolor\":\"rgb(36,36,36)\",\"ticks\":\"outside\"},\"colorscale\":[[0.0,\"#440154\"],[0.1111111111111111,\"#482878\"],[0.2222222222222222,\"#3e4989\"],[0.3333333333333333,\"#31688e\"],[0.4444444444444444,\"#26828e\"],[0.5555555555555556,\"#1f9e89\"],[0.6666666666666666,\"#35b779\"],[0.7777777777777778,\"#6ece58\"],[0.8888888888888888,\"#b5de2b\"],[1.0,\"#fde725\"]],\"type\":\"contour\"}],\"heatmapgl\":[{\"colorbar\":{\"outlinewidth\":1,\"tickcolor\":\"rgb(36,36,36)\",\"ticks\":\"outside\"},\"colorscale\":[[0.0,\"#440154\"],[0.1111111111111111,\"#482878\"],[0.2222222222222222,\"#3e4989\"],[0.3333333333333333,\"#31688e\"],[0.4444444444444444,\"#26828e\"],[0.5555555555555556,\"#1f9e89\"],[0.6666666666666666,\"#35b779\"],[0.7777777777777778,\"#6ece58\"],[0.8888888888888888,\"#b5de2b\"],[1.0,\"#fde725\"]],\"type\":\"heatmapgl\"}],\"heatmap\":[{\"colorbar\":{\"outlinewidth\":1,\"tickcolor\":\"rgb(36,36,36)\",\"ticks\":\"outside\"},\"colorscale\":[[0.0,\"#440154\"],[0.1111111111111111,\"#482878\"],[0.2222222222222222,\"#3e4989\"],[0.3333333333333333,\"#31688e\"],[0.4444444444444444,\"#26828e\"],[0.5555555555555556,\"#1f9e89\"],[0.6666666666666666,\"#35b779\"],[0.7777777777777778,\"#6ece58\"],[0.8888888888888888,\"#b5de2b\"],[1.0,\"#fde725\"]],\"type\":\"heatmap\"}],\"histogram2dcontour\":[{\"colorbar\":{\"outlinewidth\":1,\"tickcolor\":\"rgb(36,36,36)\",\"ticks\":\"outside\"},\"colorscale\":[[0.0,\"#440154\"],[0.1111111111111111,\"#482878\"],[0.2222222222222222,\"#3e4989\"],[0.3333333333333333,\"#31688e\"],[0.4444444444444444,\"#26828e\"],[0.5555555555555556,\"#1f9e89\"],[0.6666666666666666,\"#35b779\"],[0.7777777777777778,\"#6ece58\"],[0.8888888888888888,\"#b5de2b\"],[1.0,\"#fde725\"]],\"type\":\"histogram2dcontour\"}],\"histogram2d\":[{\"colorbar\":{\"outlinewidth\":1,\"tickcolor\":\"rgb(36,36,36)\",\"ticks\":\"outside\"},\"colorscale\":[[0.0,\"#440154\"],[0.1111111111111111,\"#482878\"],[0.2222222222222222,\"#3e4989\"],[0.3333333333333333,\"#31688e\"],[0.4444444444444444,\"#26828e\"],[0.5555555555555556,\"#1f9e89\"],[0.6666666666666666,\"#35b779\"],[0.7777777777777778,\"#6ece58\"],[0.8888888888888888,\"#b5de2b\"],[1.0,\"#fde725\"]],\"type\":\"histogram2d\"}],\"histogram\":[{\"marker\":{\"line\":{\"color\":\"white\",\"width\":0.6}},\"type\":\"histogram\"}],\"mesh3d\":[{\"colorbar\":{\"outlinewidth\":1,\"tickcolor\":\"rgb(36,36,36)\",\"ticks\":\"outside\"},\"type\":\"mesh3d\"}],\"parcoords\":[{\"line\":{\"colorbar\":{\"outlinewidth\":1,\"tickcolor\":\"rgb(36,36,36)\",\"ticks\":\"outside\"}},\"type\":\"parcoords\"}],\"pie\":[{\"automargin\":true,\"type\":\"pie\"}],\"scatter3d\":[{\"line\":{\"colorbar\":{\"outlinewidth\":1,\"tickcolor\":\"rgb(36,36,36)\",\"ticks\":\"outside\"}},\"marker\":{\"colorbar\":{\"outlinewidth\":1,\"tickcolor\":\"rgb(36,36,36)\",\"ticks\":\"outside\"}},\"type\":\"scatter3d\"}],\"scattercarpet\":[{\"marker\":{\"colorbar\":{\"outlinewidth\":1,\"tickcolor\":\"rgb(36,36,36)\",\"ticks\":\"outside\"}},\"type\":\"scattercarpet\"}],\"scattergeo\":[{\"marker\":{\"colorbar\":{\"outlinewidth\":1,\"tickcolor\":\"rgb(36,36,36)\",\"ticks\":\"outside\"}},\"type\":\"scattergeo\"}],\"scattergl\":[{\"marker\":{\"colorbar\":{\"outlinewidth\":1,\"tickcolor\":\"rgb(36,36,36)\",\"ticks\":\"outside\"}},\"type\":\"scattergl\"}],\"scattermapbox\":[{\"marker\":{\"colorbar\":{\"outlinewidth\":1,\"tickcolor\":\"rgb(36,36,36)\",\"ticks\":\"outside\"}},\"type\":\"scattermapbox\"}],\"scatterpolargl\":[{\"marker\":{\"colorbar\":{\"outlinewidth\":1,\"tickcolor\":\"rgb(36,36,36)\",\"ticks\":\"outside\"}},\"type\":\"scatterpolargl\"}],\"scatterpolar\":[{\"marker\":{\"colorbar\":{\"outlinewidth\":1,\"tickcolor\":\"rgb(36,36,36)\",\"ticks\":\"outside\"}},\"type\":\"scatterpolar\"}],\"scatter\":[{\"fillpattern\":{\"fillmode\":\"overlay\",\"size\":10,\"solidity\":0.2},\"type\":\"scatter\"}],\"scatterternary\":[{\"marker\":{\"colorbar\":{\"outlinewidth\":1,\"tickcolor\":\"rgb(36,36,36)\",\"ticks\":\"outside\"}},\"type\":\"scatterternary\"}],\"surface\":[{\"colorbar\":{\"outlinewidth\":1,\"tickcolor\":\"rgb(36,36,36)\",\"ticks\":\"outside\"},\"colorscale\":[[0.0,\"#440154\"],[0.1111111111111111,\"#482878\"],[0.2222222222222222,\"#3e4989\"],[0.3333333333333333,\"#31688e\"],[0.4444444444444444,\"#26828e\"],[0.5555555555555556,\"#1f9e89\"],[0.6666666666666666,\"#35b779\"],[0.7777777777777778,\"#6ece58\"],[0.8888888888888888,\"#b5de2b\"],[1.0,\"#fde725\"]],\"type\":\"surface\"}],\"table\":[{\"cells\":{\"fill\":{\"color\":\"rgb(237,237,237)\"},\"line\":{\"color\":\"white\"}},\"header\":{\"fill\":{\"color\":\"rgb(217,217,217)\"},\"line\":{\"color\":\"white\"}},\"type\":\"table\"}]},\"layout\":{\"annotationdefaults\":{\"arrowhead\":0,\"arrowwidth\":1},\"autotypenumbers\":\"strict\",\"coloraxis\":{\"colorbar\":{\"outlinewidth\":1,\"tickcolor\":\"rgb(36,36,36)\",\"ticks\":\"outside\"}},\"colorscale\":{\"diverging\":[[0.0,\"rgb(103,0,31)\"],[0.1,\"rgb(178,24,43)\"],[0.2,\"rgb(214,96,77)\"],[0.3,\"rgb(244,165,130)\"],[0.4,\"rgb(253,219,199)\"],[0.5,\"rgb(247,247,247)\"],[0.6,\"rgb(209,229,240)\"],[0.7,\"rgb(146,197,222)\"],[0.8,\"rgb(67,147,195)\"],[0.9,\"rgb(33,102,172)\"],[1.0,\"rgb(5,48,97)\"]],\"sequential\":[[0.0,\"#440154\"],[0.1111111111111111,\"#482878\"],[0.2222222222222222,\"#3e4989\"],[0.3333333333333333,\"#31688e\"],[0.4444444444444444,\"#26828e\"],[0.5555555555555556,\"#1f9e89\"],[0.6666666666666666,\"#35b779\"],[0.7777777777777778,\"#6ece58\"],[0.8888888888888888,\"#b5de2b\"],[1.0,\"#fde725\"]],\"sequentialminus\":[[0.0,\"#440154\"],[0.1111111111111111,\"#482878\"],[0.2222222222222222,\"#3e4989\"],[0.3333333333333333,\"#31688e\"],[0.4444444444444444,\"#26828e\"],[0.5555555555555556,\"#1f9e89\"],[0.6666666666666666,\"#35b779\"],[0.7777777777777778,\"#6ece58\"],[0.8888888888888888,\"#b5de2b\"],[1.0,\"#fde725\"]]},\"colorway\":[\"#1F77B4\",\"#FF7F0E\",\"#2CA02C\",\"#D62728\",\"#9467BD\",\"#8C564B\",\"#E377C2\",\"#7F7F7F\",\"#BCBD22\",\"#17BECF\"],\"font\":{\"color\":\"rgb(36,36,36)\"},\"geo\":{\"bgcolor\":\"white\",\"lakecolor\":\"white\",\"landcolor\":\"white\",\"showlakes\":true,\"showland\":true,\"subunitcolor\":\"white\"},\"hoverlabel\":{\"align\":\"left\"},\"hovermode\":\"closest\",\"mapbox\":{\"style\":\"light\"},\"paper_bgcolor\":\"white\",\"plot_bgcolor\":\"white\",\"polar\":{\"angularaxis\":{\"gridcolor\":\"rgb(232,232,232)\",\"linecolor\":\"rgb(36,36,36)\",\"showgrid\":false,\"showline\":true,\"ticks\":\"outside\"},\"bgcolor\":\"white\",\"radialaxis\":{\"gridcolor\":\"rgb(232,232,232)\",\"linecolor\":\"rgb(36,36,36)\",\"showgrid\":false,\"showline\":true,\"ticks\":\"outside\"}},\"scene\":{\"xaxis\":{\"backgroundcolor\":\"white\",\"gridcolor\":\"rgb(232,232,232)\",\"gridwidth\":2,\"linecolor\":\"rgb(36,36,36)\",\"showbackground\":true,\"showgrid\":false,\"showline\":true,\"ticks\":\"outside\",\"zeroline\":false,\"zerolinecolor\":\"rgb(36,36,36)\"},\"yaxis\":{\"backgroundcolor\":\"white\",\"gridcolor\":\"rgb(232,232,232)\",\"gridwidth\":2,\"linecolor\":\"rgb(36,36,36)\",\"showbackground\":true,\"showgrid\":false,\"showline\":true,\"ticks\":\"outside\",\"zeroline\":false,\"zerolinecolor\":\"rgb(36,36,36)\"},\"zaxis\":{\"backgroundcolor\":\"white\",\"gridcolor\":\"rgb(232,232,232)\",\"gridwidth\":2,\"linecolor\":\"rgb(36,36,36)\",\"showbackground\":true,\"showgrid\":false,\"showline\":true,\"ticks\":\"outside\",\"zeroline\":false,\"zerolinecolor\":\"rgb(36,36,36)\"}},\"shapedefaults\":{\"fillcolor\":\"black\",\"line\":{\"width\":0},\"opacity\":0.3},\"ternary\":{\"aaxis\":{\"gridcolor\":\"rgb(232,232,232)\",\"linecolor\":\"rgb(36,36,36)\",\"showgrid\":false,\"showline\":true,\"ticks\":\"outside\"},\"baxis\":{\"gridcolor\":\"rgb(232,232,232)\",\"linecolor\":\"rgb(36,36,36)\",\"showgrid\":false,\"showline\":true,\"ticks\":\"outside\"},\"bgcolor\":\"white\",\"caxis\":{\"gridcolor\":\"rgb(232,232,232)\",\"linecolor\":\"rgb(36,36,36)\",\"showgrid\":false,\"showline\":true,\"ticks\":\"outside\"}},\"title\":{\"x\":0.05},\"xaxis\":{\"automargin\":true,\"gridcolor\":\"rgb(232,232,232)\",\"linecolor\":\"rgb(36,36,36)\",\"showgrid\":false,\"showline\":true,\"ticks\":\"outside\",\"title\":{\"standoff\":15},\"zeroline\":false,\"zerolinecolor\":\"rgb(36,36,36)\"},\"yaxis\":{\"automargin\":true,\"gridcolor\":\"rgb(232,232,232)\",\"linecolor\":\"rgb(36,36,36)\",\"showgrid\":false,\"showline\":true,\"ticks\":\"outside\",\"title\":{\"standoff\":15},\"zeroline\":false,\"zerolinecolor\":\"rgb(36,36,36)\"}}},\"margin\":{\"l\":20,\"r\":20,\"t\":20,\"b\":20},\"width\":400,\"height\":400,\"paper_bgcolor\":\"#f7f8fa\",\"showlegend\":false},                        {\"responsive\": true}                    ).then(function(){\n",
              "                            \n",
              "var gd = document.getElementById('811bf186-680b-4230-9def-bd23ce40c49b');\n",
              "var x = new MutationObserver(function (mutations, observer) {{\n",
              "        var display = window.getComputedStyle(gd).display;\n",
              "        if (!display || display === 'none') {{\n",
              "            console.log([gd, 'removed!']);\n",
              "            Plotly.purge(gd);\n",
              "            observer.disconnect();\n",
              "        }}\n",
              "}});\n",
              "\n",
              "// Listen for the removal of the full notebook cells\n",
              "var notebookContainer = gd.closest('#notebook-container');\n",
              "if (notebookContainer) {{\n",
              "    x.observe(notebookContainer, {childList: true});\n",
              "}}\n",
              "\n",
              "// Listen for the clearing of the current output cell\n",
              "var outputEl = gd.closest('.output');\n",
              "if (outputEl) {{\n",
              "    x.observe(outputEl, {childList: true});\n",
              "}}\n",
              "\n",
              "                        })                };                            </script>        </div>\n",
              "</body>\n",
              "</html>"
            ]
          },
          "metadata": {}
        }
      ]
    },
    {
      "cell_type": "code",
      "source": [
        "# Quantil 0.25\n",
        "print(np.quantile(normal_dist, 0.25))\n",
        "\n",
        "# Percentil 25\n",
        "print(np.percentile(normal_dist, 25))"
      ],
      "metadata": {
        "id": "H9jEgirdisx7",
        "colab": {
          "base_uri": "https://localhost:8080/"
        },
        "outputId": "a5a00d65-a49d-4d49-eedb-ba87e03d2d02"
      },
      "execution_count": 61,
      "outputs": [
        {
          "output_type": "stream",
          "name": "stdout",
          "text": [
            "-0.7300550279735354\n",
            "-0.7300550279735354\n"
          ]
        }
      ]
    },
    {
      "cell_type": "code",
      "source": [
        "# Transformando em um dataframe do pandas\n",
        "df_normal_distrib = pd.DataFrame(normal_dist)\n",
        "# Imprimindo dados descritivos do dataframe\n",
        "df_normal_distrib.describe()"
      ],
      "metadata": {
        "id": "kq-CHrYsjPas",
        "colab": {
          "base_uri": "https://localhost:8080/",
          "height": 300
        },
        "outputId": "d26f6c5b-78cc-4cea-c0d8-fd6fbdfeeb0a"
      },
      "execution_count": 62,
      "outputs": [
        {
          "output_type": "execute_result",
          "data": {
            "text/plain": [
              "                 0\n",
              "count  1000.000000\n",
              "mean     -0.030612\n",
              "std       0.998161\n",
              "min      -3.466260\n",
              "25%      -0.730055\n",
              "50%      -0.037060\n",
              "75%       0.673736\n",
              "max       2.968652"
            ],
            "text/html": [
              "\n",
              "  <div id=\"df-66009d58-44ec-466a-b826-7882ecfacc50\" class=\"colab-df-container\">\n",
              "    <div>\n",
              "<style scoped>\n",
              "    .dataframe tbody tr th:only-of-type {\n",
              "        vertical-align: middle;\n",
              "    }\n",
              "\n",
              "    .dataframe tbody tr th {\n",
              "        vertical-align: top;\n",
              "    }\n",
              "\n",
              "    .dataframe thead th {\n",
              "        text-align: right;\n",
              "    }\n",
              "</style>\n",
              "<table border=\"1\" class=\"dataframe\">\n",
              "  <thead>\n",
              "    <tr style=\"text-align: right;\">\n",
              "      <th></th>\n",
              "      <th>0</th>\n",
              "    </tr>\n",
              "  </thead>\n",
              "  <tbody>\n",
              "    <tr>\n",
              "      <th>count</th>\n",
              "      <td>1000.000000</td>\n",
              "    </tr>\n",
              "    <tr>\n",
              "      <th>mean</th>\n",
              "      <td>-0.030612</td>\n",
              "    </tr>\n",
              "    <tr>\n",
              "      <th>std</th>\n",
              "      <td>0.998161</td>\n",
              "    </tr>\n",
              "    <tr>\n",
              "      <th>min</th>\n",
              "      <td>-3.466260</td>\n",
              "    </tr>\n",
              "    <tr>\n",
              "      <th>25%</th>\n",
              "      <td>-0.730055</td>\n",
              "    </tr>\n",
              "    <tr>\n",
              "      <th>50%</th>\n",
              "      <td>-0.037060</td>\n",
              "    </tr>\n",
              "    <tr>\n",
              "      <th>75%</th>\n",
              "      <td>0.673736</td>\n",
              "    </tr>\n",
              "    <tr>\n",
              "      <th>max</th>\n",
              "      <td>2.968652</td>\n",
              "    </tr>\n",
              "  </tbody>\n",
              "</table>\n",
              "</div>\n",
              "    <div class=\"colab-df-buttons\">\n",
              "\n",
              "  <div class=\"colab-df-container\">\n",
              "    <button class=\"colab-df-convert\" onclick=\"convertToInteractive('df-66009d58-44ec-466a-b826-7882ecfacc50')\"\n",
              "            title=\"Convert this dataframe to an interactive table.\"\n",
              "            style=\"display:none;\">\n",
              "\n",
              "  <svg xmlns=\"http://www.w3.org/2000/svg\" height=\"24px\" viewBox=\"0 -960 960 960\">\n",
              "    <path d=\"M120-120v-720h720v720H120Zm60-500h600v-160H180v160Zm220 220h160v-160H400v160Zm0 220h160v-160H400v160ZM180-400h160v-160H180v160Zm440 0h160v-160H620v160ZM180-180h160v-160H180v160Zm440 0h160v-160H620v160Z\"/>\n",
              "  </svg>\n",
              "    </button>\n",
              "\n",
              "  <style>\n",
              "    .colab-df-container {\n",
              "      display:flex;\n",
              "      gap: 12px;\n",
              "    }\n",
              "\n",
              "    .colab-df-convert {\n",
              "      background-color: #E8F0FE;\n",
              "      border: none;\n",
              "      border-radius: 50%;\n",
              "      cursor: pointer;\n",
              "      display: none;\n",
              "      fill: #1967D2;\n",
              "      height: 32px;\n",
              "      padding: 0 0 0 0;\n",
              "      width: 32px;\n",
              "    }\n",
              "\n",
              "    .colab-df-convert:hover {\n",
              "      background-color: #E2EBFA;\n",
              "      box-shadow: 0px 1px 2px rgba(60, 64, 67, 0.3), 0px 1px 3px 1px rgba(60, 64, 67, 0.15);\n",
              "      fill: #174EA6;\n",
              "    }\n",
              "\n",
              "    .colab-df-buttons div {\n",
              "      margin-bottom: 4px;\n",
              "    }\n",
              "\n",
              "    [theme=dark] .colab-df-convert {\n",
              "      background-color: #3B4455;\n",
              "      fill: #D2E3FC;\n",
              "    }\n",
              "\n",
              "    [theme=dark] .colab-df-convert:hover {\n",
              "      background-color: #434B5C;\n",
              "      box-shadow: 0px 1px 3px 1px rgba(0, 0, 0, 0.15);\n",
              "      filter: drop-shadow(0px 1px 2px rgba(0, 0, 0, 0.3));\n",
              "      fill: #FFFFFF;\n",
              "    }\n",
              "  </style>\n",
              "\n",
              "    <script>\n",
              "      const buttonEl =\n",
              "        document.querySelector('#df-66009d58-44ec-466a-b826-7882ecfacc50 button.colab-df-convert');\n",
              "      buttonEl.style.display =\n",
              "        google.colab.kernel.accessAllowed ? 'block' : 'none';\n",
              "\n",
              "      async function convertToInteractive(key) {\n",
              "        const element = document.querySelector('#df-66009d58-44ec-466a-b826-7882ecfacc50');\n",
              "        const dataTable =\n",
              "          await google.colab.kernel.invokeFunction('convertToInteractive',\n",
              "                                                    [key], {});\n",
              "        if (!dataTable) return;\n",
              "\n",
              "        const docLinkHtml = 'Like what you see? Visit the ' +\n",
              "          '<a target=\"_blank\" href=https://colab.research.google.com/notebooks/data_table.ipynb>data table notebook</a>'\n",
              "          + ' to learn more about interactive tables.';\n",
              "        element.innerHTML = '';\n",
              "        dataTable['output_type'] = 'display_data';\n",
              "        await google.colab.output.renderOutput(dataTable, element);\n",
              "        const docLink = document.createElement('div');\n",
              "        docLink.innerHTML = docLinkHtml;\n",
              "        element.appendChild(docLink);\n",
              "      }\n",
              "    </script>\n",
              "  </div>\n",
              "\n",
              "\n",
              "<div id=\"df-f6b23f8f-e6a3-4ba4-b1f1-4c7d42108ec1\">\n",
              "  <button class=\"colab-df-quickchart\" onclick=\"quickchart('df-f6b23f8f-e6a3-4ba4-b1f1-4c7d42108ec1')\"\n",
              "            title=\"Suggest charts\"\n",
              "            style=\"display:none;\">\n",
              "\n",
              "<svg xmlns=\"http://www.w3.org/2000/svg\" height=\"24px\"viewBox=\"0 0 24 24\"\n",
              "     width=\"24px\">\n",
              "    <g>\n",
              "        <path d=\"M19 3H5c-1.1 0-2 .9-2 2v14c0 1.1.9 2 2 2h14c1.1 0 2-.9 2-2V5c0-1.1-.9-2-2-2zM9 17H7v-7h2v7zm4 0h-2V7h2v10zm4 0h-2v-4h2v4z\"/>\n",
              "    </g>\n",
              "</svg>\n",
              "  </button>\n",
              "\n",
              "<style>\n",
              "  .colab-df-quickchart {\n",
              "      --bg-color: #E8F0FE;\n",
              "      --fill-color: #1967D2;\n",
              "      --hover-bg-color: #E2EBFA;\n",
              "      --hover-fill-color: #174EA6;\n",
              "      --disabled-fill-color: #AAA;\n",
              "      --disabled-bg-color: #DDD;\n",
              "  }\n",
              "\n",
              "  [theme=dark] .colab-df-quickchart {\n",
              "      --bg-color: #3B4455;\n",
              "      --fill-color: #D2E3FC;\n",
              "      --hover-bg-color: #434B5C;\n",
              "      --hover-fill-color: #FFFFFF;\n",
              "      --disabled-bg-color: #3B4455;\n",
              "      --disabled-fill-color: #666;\n",
              "  }\n",
              "\n",
              "  .colab-df-quickchart {\n",
              "    background-color: var(--bg-color);\n",
              "    border: none;\n",
              "    border-radius: 50%;\n",
              "    cursor: pointer;\n",
              "    display: none;\n",
              "    fill: var(--fill-color);\n",
              "    height: 32px;\n",
              "    padding: 0;\n",
              "    width: 32px;\n",
              "  }\n",
              "\n",
              "  .colab-df-quickchart:hover {\n",
              "    background-color: var(--hover-bg-color);\n",
              "    box-shadow: 0 1px 2px rgba(60, 64, 67, 0.3), 0 1px 3px 1px rgba(60, 64, 67, 0.15);\n",
              "    fill: var(--button-hover-fill-color);\n",
              "  }\n",
              "\n",
              "  .colab-df-quickchart-complete:disabled,\n",
              "  .colab-df-quickchart-complete:disabled:hover {\n",
              "    background-color: var(--disabled-bg-color);\n",
              "    fill: var(--disabled-fill-color);\n",
              "    box-shadow: none;\n",
              "  }\n",
              "\n",
              "  .colab-df-spinner {\n",
              "    border: 2px solid var(--fill-color);\n",
              "    border-color: transparent;\n",
              "    border-bottom-color: var(--fill-color);\n",
              "    animation:\n",
              "      spin 1s steps(1) infinite;\n",
              "  }\n",
              "\n",
              "  @keyframes spin {\n",
              "    0% {\n",
              "      border-color: transparent;\n",
              "      border-bottom-color: var(--fill-color);\n",
              "      border-left-color: var(--fill-color);\n",
              "    }\n",
              "    20% {\n",
              "      border-color: transparent;\n",
              "      border-left-color: var(--fill-color);\n",
              "      border-top-color: var(--fill-color);\n",
              "    }\n",
              "    30% {\n",
              "      border-color: transparent;\n",
              "      border-left-color: var(--fill-color);\n",
              "      border-top-color: var(--fill-color);\n",
              "      border-right-color: var(--fill-color);\n",
              "    }\n",
              "    40% {\n",
              "      border-color: transparent;\n",
              "      border-right-color: var(--fill-color);\n",
              "      border-top-color: var(--fill-color);\n",
              "    }\n",
              "    60% {\n",
              "      border-color: transparent;\n",
              "      border-right-color: var(--fill-color);\n",
              "    }\n",
              "    80% {\n",
              "      border-color: transparent;\n",
              "      border-right-color: var(--fill-color);\n",
              "      border-bottom-color: var(--fill-color);\n",
              "    }\n",
              "    90% {\n",
              "      border-color: transparent;\n",
              "      border-bottom-color: var(--fill-color);\n",
              "    }\n",
              "  }\n",
              "</style>\n",
              "\n",
              "  <script>\n",
              "    async function quickchart(key) {\n",
              "      const quickchartButtonEl =\n",
              "        document.querySelector('#' + key + ' button');\n",
              "      quickchartButtonEl.disabled = true;  // To prevent multiple clicks.\n",
              "      quickchartButtonEl.classList.add('colab-df-spinner');\n",
              "      try {\n",
              "        const charts = await google.colab.kernel.invokeFunction(\n",
              "            'suggestCharts', [key], {});\n",
              "      } catch (error) {\n",
              "        console.error('Error during call to suggestCharts:', error);\n",
              "      }\n",
              "      quickchartButtonEl.classList.remove('colab-df-spinner');\n",
              "      quickchartButtonEl.classList.add('colab-df-quickchart-complete');\n",
              "    }\n",
              "    (() => {\n",
              "      let quickchartButtonEl =\n",
              "        document.querySelector('#df-f6b23f8f-e6a3-4ba4-b1f1-4c7d42108ec1 button');\n",
              "      quickchartButtonEl.style.display =\n",
              "        google.colab.kernel.accessAllowed ? 'block' : 'none';\n",
              "    })();\n",
              "  </script>\n",
              "</div>\n",
              "\n",
              "    </div>\n",
              "  </div>\n"
            ]
          },
          "metadata": {},
          "execution_count": 62
        }
      ]
    },
    {
      "cell_type": "markdown",
      "source": [
        "#### **Assimetria (skewness)**"
      ],
      "metadata": {
        "id": "mYY2XOL38Vmg"
      }
    },
    {
      "cell_type": "markdown",
      "source": [
        "A assimetria, também conhecida como *skewness* em inglês, é uma medida estatística que descreve a inclinação ou assimetria da distribuição de um conjunto de dados.\n",
        "\n",
        "Indica a falta de simetria em uma distribuição, ou seja, se os dados estão concentrados mais à esquerda ou à direita em relação à média.\n",
        "\n",
        "Existem três tipos de assimetria:\n",
        "\n",
        "*   **Assimetria Negativa (à esquerda)**: A cauda esquerda da distribuição é mais longa ou \"pesada\" do que a cauda direita. A maioria dos dados está concentrada à direita da média, e há valores extremos à esquerda.\n",
        "\n",
        "*   **Assimetria Zero (simetria)**: A distribuição é simétrica, o que significa que as caudas esquerda e direita são simétricas em relação à média.\n",
        "\n",
        "*   **Assimetria Positiva (à direita)**: A cauda direita da distribuição é mais\n",
        "longa ou \"pesada\" do que a cauda esquerda. A maioria dos dados está concentrada à esquerda da média, e há valores extremos à direita."
      ],
      "metadata": {
        "id": "-KTi-Wx1KWsv"
      }
    },
    {
      "cell_type": "markdown",
      "source": [
        "\n",
        "<img src=\"https://www.biologyforlife.com/uploads/2/2/3/9/22392738/c101b0da6ea1a0dab31f80d9963b0368_orig.png\" width=\"800\" align=\"left\"/>"
      ],
      "metadata": {
        "id": "xhqmLO7Y4aXm"
      }
    },
    {
      "cell_type": "markdown",
      "source": [
        "A função `stats.skew` no módulo scipy é utilizada para calcular a medida de assimetria (*skewness*) de uma distribuição.\n",
        "\n",
        "Essa medida indica o grau de assimetria na forma da distribuição de dados em relação à média."
      ],
      "metadata": {
        "id": "uHyUBwxsLQUR"
      }
    },
    {
      "cell_type": "code",
      "source": [
        "stats.skew(normal_dist)"
      ],
      "metadata": {
        "id": "w7H8Ubsohfn3",
        "colab": {
          "base_uri": "https://localhost:8080/"
        },
        "outputId": "b9e50032-b28e-447f-c09d-ec22d7033121"
      },
      "execution_count": null,
      "outputs": [
        {
          "output_type": "execute_result",
          "data": {
            "text/plain": [
              "0.013535659786954618"
            ]
          },
          "metadata": {},
          "execution_count": 14
        }
      ]
    },
    {
      "cell_type": "markdown",
      "source": [
        "A interpretação do resultado é a seguinte:\n",
        "\n",
        "*   Valor positivo indica assimetria positiva (a cauda direita é mais longa).\n",
        "*   Valor negativo indica assimetria negativa (a cauda esquerda é mais longa).\n",
        "*   Valor próximo de zero indica simetria."
      ],
      "metadata": {
        "id": "Xbu1MkIzLRHw"
      }
    },
    {
      "cell_type": "markdown",
      "source": [
        "#### **Medidas de dispersão (amplitude, desvios padrão e médio, coeficiente de variação e intervalo de confiança)**"
      ],
      "metadata": {
        "id": "NLp0rkVUL8mD"
      }
    },
    {
      "cell_type": "markdown",
      "source": [
        "**Amplitude**\n",
        "\n",
        "Medida de dispersão que indica a extensão total dos valores em um conjunto de dados. É calculada subtraindo o menor valor do conjunto (mínimo) do maior valor (máximo).\n",
        "\n",
        "Em termos simples, a amplitude representa a diferença entre o valor mais alto e o valor mais baixo em um conjunto de dados.\n",
        "\n",
        "Fornece uma visão geral da variação total nos dados. No entanto, ela é sensível a valores extremos (outliers), pois é influenciada diretamente pelo máximo e mínimo.\n",
        "\n",
        "Pode ser utilizada para definir alvos/stops."
      ],
      "metadata": {
        "id": "2tHTAyl3zt0k"
      }
    },
    {
      "cell_type": "code",
      "source": [
        "amplitude = normal_dist.max() - normal_dist.min()\n",
        "amplitude"
      ],
      "metadata": {
        "id": "oatD-BjRjjnM",
        "colab": {
          "base_uri": "https://localhost:8080/"
        },
        "outputId": "2a8626a5-b315-46b6-e5e4-e8461551e28f"
      },
      "execution_count": 63,
      "outputs": [
        {
          "output_type": "execute_result",
          "data": {
            "text/plain": [
              "6.434911794591442"
            ]
          },
          "metadata": {},
          "execution_count": 63
        }
      ]
    },
    {
      "cell_type": "markdown",
      "source": [
        "**Desvio padrão**\n",
        "\n",
        "O desvio padrão é uma medida que indica a dispersão dos dados dentro de uma amostra com relação à média. Assim, quando se calcula o desvio padrão juntamente com a média de diferentes grupos, obtém-se mais informações para avaliar e diferenciar seus comportamentos.\n",
        "\n",
        "Pode ser utilizada em cálculos do Sharpe ratio e/ou bandas de bollinger."
      ],
      "metadata": {
        "id": "c-bzffCsXKLd"
      }
    },
    {
      "cell_type": "code",
      "source": [
        "# Desvio padrão da amostra (população degrees of freedom = False)\n",
        "desvio_padrao = np.std(normal_dist, ddof = True)\n",
        "desvio_padrao"
      ],
      "metadata": {
        "id": "Xg2ayarmj-lk",
        "colab": {
          "base_uri": "https://localhost:8080/"
        },
        "outputId": "db10ee9c-f46c-4092-ce09-f9afdc99c6df"
      },
      "execution_count": 64,
      "outputs": [
        {
          "output_type": "execute_result",
          "data": {
            "text/plain": [
              "0.9981608800763283"
            ]
          },
          "metadata": {},
          "execution_count": 64
        }
      ]
    },
    {
      "cell_type": "markdown",
      "source": [
        "**Coeficiente de variação**\n",
        "\n",
        "Medida estatística que expressa a variabilidade relativa de um conjunto de dados em relação à sua média.\n",
        "\n",
        "É útil para **comparar a dispersão de conjuntos de dados que têm unidades de medida diferentes ou escalas distintas**.\n",
        "\n",
        "Interessante para comparações e avaliar a consistência (ex., pagamento de dividendos)"
      ],
      "metadata": {
        "id": "W9Gmc9qrMrjR"
      }
    },
    {
      "cell_type": "code",
      "source": [
        "normal_dist.std(ddof = True)/normal_dist.mean()*100"
      ],
      "metadata": {
        "id": "7R-7OncOmPc0",
        "colab": {
          "base_uri": "https://localhost:8080/"
        },
        "outputId": "706dcdc8-fc61-4168-ec95-d2160e7f36a4"
      },
      "execution_count": null,
      "outputs": [
        {
          "output_type": "execute_result",
          "data": {
            "text/plain": [
              "57399.99104184921"
            ]
          },
          "metadata": {},
          "execution_count": 17
        }
      ]
    },
    {
      "cell_type": "markdown",
      "source": [
        "**Erro padrão da média**\n"
      ],
      "metadata": {
        "id": "HYy2vUZ7NEiV"
      }
    },
    {
      "cell_type": "code",
      "source": [
        "stats.sem(normal_dist)"
      ],
      "metadata": {
        "id": "Pzi5AxIvT1wm",
        "colab": {
          "base_uri": "https://localhost:8080/"
        },
        "outputId": "1a72b6e6-41b0-4bcd-d3a2-b4ef23ced38d"
      },
      "execution_count": 68,
      "outputs": [
        {
          "output_type": "execute_result",
          "data": {
            "text/plain": [
              "0.03156461852319382"
            ]
          },
          "metadata": {},
          "execution_count": 68
        }
      ]
    },
    {
      "cell_type": "markdown",
      "source": [
        "**Intervalo de confiança 95%**"
      ],
      "metadata": {
        "id": "kE0RM7ghNb0T"
      }
    },
    {
      "cell_type": "code",
      "source": [
        "IC_95 = stats.t.interval(confidence=0.95, df=len(normal_dist)-1, loc=np.mean(normal_dist), scale=stats.sem(normal_dist))\n",
        "IC_95"
      ],
      "metadata": {
        "id": "67JP4ZSvV3TO",
        "colab": {
          "base_uri": "https://localhost:8080/"
        },
        "outputId": "52d10492-0f2a-41c4-a387-16c7723b61b9"
      },
      "execution_count": 69,
      "outputs": [
        {
          "output_type": "execute_result",
          "data": {
            "text/plain": [
              "(-0.09255258133153119, 0.03132853793431696)"
            ]
          },
          "metadata": {},
          "execution_count": 69
        }
      ]
    },
    {
      "cell_type": "markdown",
      "source": [
        "#### **Curtose (kurtosis)**"
      ],
      "metadata": {
        "id": "BBMfhITGvGbU"
      }
    },
    {
      "cell_type": "markdown",
      "source": [
        "A curtose é uma medida estatística que descreve a forma da distribuição de um conjunto de dados, especificamente, a forma das caudas da distribuição em relação ao pico. Ela quantifica o grau de \"achatamento\" ou \"afilamento\" das caudas de uma distribuição em comparação com a distribuição normal.\n",
        "\n",
        "A curtose é usada para avaliar a forma da distribuição de dados e entender a presença de caudas extremas.\n",
        "\n",
        "Em finanças, a curtose pode ser útil para avaliar a extensão de eventos extremos nos retornos de investimentos."
      ],
      "metadata": {
        "id": "avEAtSMFNp6B"
      }
    },
    {
      "cell_type": "markdown",
      "source": [
        "<img src=\"https://www.researchgate.net/profile/Attila-Bonyar/publication/298415862/figure/fig1/AS:340236723867648@1458130164255/Illustration-of-the-skewness-and-kurtosis-values-and-how-they-correlate-with-the-shape-of_W640.jpg\" width=\"600\" align=\"left\"/>"
      ],
      "metadata": {
        "id": "NL-JDmpTwCFU"
      }
    },
    {
      "cell_type": "code",
      "source": [
        "stats.kurtosis(normal_dist, fisher=True)"
      ],
      "metadata": {
        "id": "RWe2sJUgx28M",
        "colab": {
          "base_uri": "https://localhost:8080/"
        },
        "outputId": "852d98b8-54e4-408d-f9af-d3857d95a849"
      },
      "execution_count": 70,
      "outputs": [
        {
          "output_type": "execute_result",
          "data": {
            "text/plain": [
              "-0.14828077807731121"
            ]
          },
          "metadata": {},
          "execution_count": 70
        }
      ]
    }
  ]
}